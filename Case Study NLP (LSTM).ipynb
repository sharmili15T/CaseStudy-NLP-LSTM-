{
 "cells": [
  {
   "cell_type": "code",
   "execution_count": 1,
   "id": "0139b768",
   "metadata": {},
   "outputs": [],
   "source": [
    "import tensorflow as tf\n",
    "import numpy as np\n",
    "import pandas as pd\n",
    "import os\n",
    "import matplotlib.pyplot as plt\n",
    "from tensorflow import keras \n",
    "import nltk\n",
    "\n",
    "import re\n",
    "from nltk.corpus import stopwords\n",
    "from textblob import TextBlob\n",
    "from nltk.tokenize import word_tokenize\n",
    "from nltk import WordNetLemmatizer\n",
    "from string import punctuation\n",
    "import string"
   ]
  },
  {
   "cell_type": "markdown",
   "id": "b7d46353",
   "metadata": {},
   "source": [
    "# 1. Load the dataset “ Tweets.csv “ and explore. "
   ]
  },
  {
   "cell_type": "code",
   "execution_count": 2,
   "id": "07fdd669",
   "metadata": {
    "scrolled": true
   },
   "outputs": [
    {
     "data": {
      "text/html": [
       "<div>\n",
       "<style scoped>\n",
       "    .dataframe tbody tr th:only-of-type {\n",
       "        vertical-align: middle;\n",
       "    }\n",
       "\n",
       "    .dataframe tbody tr th {\n",
       "        vertical-align: top;\n",
       "    }\n",
       "\n",
       "    .dataframe thead th {\n",
       "        text-align: right;\n",
       "    }\n",
       "</style>\n",
       "<table border=\"1\" class=\"dataframe\">\n",
       "  <thead>\n",
       "    <tr style=\"text-align: right;\">\n",
       "      <th></th>\n",
       "      <th>tweet_id</th>\n",
       "      <th>airline_sentiment</th>\n",
       "      <th>airline_sentiment_confidence</th>\n",
       "      <th>negativereason</th>\n",
       "      <th>negativereason_confidence</th>\n",
       "      <th>airline</th>\n",
       "      <th>airline_sentiment_gold</th>\n",
       "      <th>name</th>\n",
       "      <th>negativereason_gold</th>\n",
       "      <th>retweet_count</th>\n",
       "      <th>text</th>\n",
       "      <th>tweet_coord</th>\n",
       "      <th>tweet_created</th>\n",
       "      <th>tweet_location</th>\n",
       "      <th>user_timezone</th>\n",
       "    </tr>\n",
       "  </thead>\n",
       "  <tbody>\n",
       "    <tr>\n",
       "      <th>0</th>\n",
       "      <td>570306133677760513</td>\n",
       "      <td>neutral</td>\n",
       "      <td>NaN</td>\n",
       "      <td>NaN</td>\n",
       "      <td>NaN</td>\n",
       "      <td>Virgin America</td>\n",
       "      <td>NaN</td>\n",
       "      <td>cairdin</td>\n",
       "      <td>NaN</td>\n",
       "      <td>0.0</td>\n",
       "      <td>@VirginAmerica What @dhepburn said.</td>\n",
       "      <td>NaN</td>\n",
       "      <td>2015-02-24 11:35:52 -0800</td>\n",
       "      <td>NaN</td>\n",
       "      <td>Eastern Time (US &amp; Canada)</td>\n",
       "    </tr>\n",
       "    <tr>\n",
       "      <th>1</th>\n",
       "      <td>570301130888122368</td>\n",
       "      <td>positive</td>\n",
       "      <td>0.3486</td>\n",
       "      <td>NaN</td>\n",
       "      <td>0.0000</td>\n",
       "      <td>Virgin America</td>\n",
       "      <td>NaN</td>\n",
       "      <td>jnardino</td>\n",
       "      <td>NaN</td>\n",
       "      <td>0.0</td>\n",
       "      <td>@VirginAmerica plus you've added commercials t...</td>\n",
       "      <td>NaN</td>\n",
       "      <td>2015-02-24 11:15:59 -0800</td>\n",
       "      <td>NaN</td>\n",
       "      <td>Pacific Time (US &amp; Canada)</td>\n",
       "    </tr>\n",
       "    <tr>\n",
       "      <th>2</th>\n",
       "      <td>570301083672813571</td>\n",
       "      <td>neutral</td>\n",
       "      <td>0.6837</td>\n",
       "      <td>NaN</td>\n",
       "      <td>NaN</td>\n",
       "      <td>Virgin America</td>\n",
       "      <td>NaN</td>\n",
       "      <td>yvonnalynn</td>\n",
       "      <td>NaN</td>\n",
       "      <td>0.0</td>\n",
       "      <td>@VirginAmerica I didn't today... Must mean I n...</td>\n",
       "      <td>NaN</td>\n",
       "      <td>2015-02-24 11:15:48 -0800</td>\n",
       "      <td>Lets Play</td>\n",
       "      <td>Central Time (US &amp; Canada)</td>\n",
       "    </tr>\n",
       "    <tr>\n",
       "      <th>3</th>\n",
       "      <td>570301031407624196</td>\n",
       "      <td>negative</td>\n",
       "      <td>NaN</td>\n",
       "      <td>Bad Flight</td>\n",
       "      <td>0.7033</td>\n",
       "      <td>Virgin America</td>\n",
       "      <td>NaN</td>\n",
       "      <td>jnardino</td>\n",
       "      <td>NaN</td>\n",
       "      <td>0.0</td>\n",
       "      <td>@VirginAmerica it's really aggressive to blast...</td>\n",
       "      <td>NaN</td>\n",
       "      <td>2015-02-24 11:15:36 -0800</td>\n",
       "      <td>NaN</td>\n",
       "      <td>Pacific Time (US &amp; Canada)</td>\n",
       "    </tr>\n",
       "    <tr>\n",
       "      <th>4</th>\n",
       "      <td>570300817074462722</td>\n",
       "      <td>negative</td>\n",
       "      <td>NaN</td>\n",
       "      <td>Can't Tell</td>\n",
       "      <td>NaN</td>\n",
       "      <td>Virgin America</td>\n",
       "      <td>NaN</td>\n",
       "      <td>jnardino</td>\n",
       "      <td>NaN</td>\n",
       "      <td>0.0</td>\n",
       "      <td>@VirginAmerica and it's a really big bad thing...</td>\n",
       "      <td>NaN</td>\n",
       "      <td>2015-02-24 11:14:45 -0800</td>\n",
       "      <td>NaN</td>\n",
       "      <td>Pacific Time (US &amp; Canada)</td>\n",
       "    </tr>\n",
       "    <tr>\n",
       "      <th>...</th>\n",
       "      <td>...</td>\n",
       "      <td>...</td>\n",
       "      <td>...</td>\n",
       "      <td>...</td>\n",
       "      <td>...</td>\n",
       "      <td>...</td>\n",
       "      <td>...</td>\n",
       "      <td>...</td>\n",
       "      <td>...</td>\n",
       "      <td>...</td>\n",
       "      <td>...</td>\n",
       "      <td>...</td>\n",
       "      <td>...</td>\n",
       "      <td>...</td>\n",
       "      <td>...</td>\n",
       "    </tr>\n",
       "    <tr>\n",
       "      <th>14635</th>\n",
       "      <td>569587686496825344</td>\n",
       "      <td>positive</td>\n",
       "      <td>0.3487</td>\n",
       "      <td>NaN</td>\n",
       "      <td>0.0000</td>\n",
       "      <td>American</td>\n",
       "      <td>NaN</td>\n",
       "      <td>KristenReenders</td>\n",
       "      <td>NaN</td>\n",
       "      <td>0.0</td>\n",
       "      <td>@AmericanAir thank you we got on a different f...</td>\n",
       "      <td>NaN</td>\n",
       "      <td>2015-02-22 12:01:01 -0800</td>\n",
       "      <td>NaN</td>\n",
       "      <td>NaN</td>\n",
       "    </tr>\n",
       "    <tr>\n",
       "      <th>14636</th>\n",
       "      <td>569587371693355008</td>\n",
       "      <td>negative</td>\n",
       "      <td>NaN</td>\n",
       "      <td>Customer Service Issue</td>\n",
       "      <td>NaN</td>\n",
       "      <td>American</td>\n",
       "      <td>NaN</td>\n",
       "      <td>itsropes</td>\n",
       "      <td>NaN</td>\n",
       "      <td>0.0</td>\n",
       "      <td>@AmericanAir leaving over 20 minutes Late Flig...</td>\n",
       "      <td>NaN</td>\n",
       "      <td>2015-02-22 11:59:46 -0800</td>\n",
       "      <td>Texas</td>\n",
       "      <td>NaN</td>\n",
       "    </tr>\n",
       "    <tr>\n",
       "      <th>14637</th>\n",
       "      <td>569587242672398336</td>\n",
       "      <td>neutral</td>\n",
       "      <td>NaN</td>\n",
       "      <td>NaN</td>\n",
       "      <td>NaN</td>\n",
       "      <td>American</td>\n",
       "      <td>NaN</td>\n",
       "      <td>sanyabun</td>\n",
       "      <td>NaN</td>\n",
       "      <td>0.0</td>\n",
       "      <td>@AmericanAir Please bring American Airlines to...</td>\n",
       "      <td>NaN</td>\n",
       "      <td>2015-02-22 11:59:15 -0800</td>\n",
       "      <td>Nigeria,lagos</td>\n",
       "      <td>NaN</td>\n",
       "    </tr>\n",
       "    <tr>\n",
       "      <th>14638</th>\n",
       "      <td>569587188687634433</td>\n",
       "      <td>negative</td>\n",
       "      <td>NaN</td>\n",
       "      <td>Customer Service Issue</td>\n",
       "      <td>0.6659</td>\n",
       "      <td>American</td>\n",
       "      <td>NaN</td>\n",
       "      <td>SraJackson</td>\n",
       "      <td>NaN</td>\n",
       "      <td>0.0</td>\n",
       "      <td>@AmericanAir you have my money, you change my ...</td>\n",
       "      <td>NaN</td>\n",
       "      <td>2015-02-22 11:59:02 -0800</td>\n",
       "      <td>New Jersey</td>\n",
       "      <td>Eastern Time (US &amp; Canada)</td>\n",
       "    </tr>\n",
       "    <tr>\n",
       "      <th>14639</th>\n",
       "      <td>569587140490866689</td>\n",
       "      <td>neutral</td>\n",
       "      <td>0.6771</td>\n",
       "      <td>NaN</td>\n",
       "      <td>0.0000</td>\n",
       "      <td>American</td>\n",
       "      <td>NaN</td>\n",
       "      <td>daviddtwu</td>\n",
       "      <td>NaN</td>\n",
       "      <td>0.0</td>\n",
       "      <td>@AmericanAir we have 8 ppl so we need 2 know h...</td>\n",
       "      <td>NaN</td>\n",
       "      <td>2015-02-22 11:58:51 -0800</td>\n",
       "      <td>dallas, TX</td>\n",
       "      <td>NaN</td>\n",
       "    </tr>\n",
       "  </tbody>\n",
       "</table>\n",
       "<p>14640 rows × 15 columns</p>\n",
       "</div>"
      ],
      "text/plain": [
       "                 tweet_id airline_sentiment  airline_sentiment_confidence  \\\n",
       "0      570306133677760513           neutral                           NaN   \n",
       "1      570301130888122368          positive                        0.3486   \n",
       "2      570301083672813571           neutral                        0.6837   \n",
       "3      570301031407624196          negative                           NaN   \n",
       "4      570300817074462722          negative                           NaN   \n",
       "...                   ...               ...                           ...   \n",
       "14635  569587686496825344          positive                        0.3487   \n",
       "14636  569587371693355008          negative                           NaN   \n",
       "14637  569587242672398336           neutral                           NaN   \n",
       "14638  569587188687634433          negative                           NaN   \n",
       "14639  569587140490866689           neutral                        0.6771   \n",
       "\n",
       "               negativereason  negativereason_confidence         airline  \\\n",
       "0                         NaN                        NaN  Virgin America   \n",
       "1                         NaN                     0.0000  Virgin America   \n",
       "2                         NaN                        NaN  Virgin America   \n",
       "3                  Bad Flight                     0.7033  Virgin America   \n",
       "4                  Can't Tell                        NaN  Virgin America   \n",
       "...                       ...                        ...             ...   \n",
       "14635                     NaN                     0.0000        American   \n",
       "14636  Customer Service Issue                        NaN        American   \n",
       "14637                     NaN                        NaN        American   \n",
       "14638  Customer Service Issue                     0.6659        American   \n",
       "14639                     NaN                     0.0000        American   \n",
       "\n",
       "      airline_sentiment_gold             name negativereason_gold  \\\n",
       "0                        NaN          cairdin                 NaN   \n",
       "1                        NaN         jnardino                 NaN   \n",
       "2                        NaN       yvonnalynn                 NaN   \n",
       "3                        NaN         jnardino                 NaN   \n",
       "4                        NaN         jnardino                 NaN   \n",
       "...                      ...              ...                 ...   \n",
       "14635                    NaN  KristenReenders                 NaN   \n",
       "14636                    NaN         itsropes                 NaN   \n",
       "14637                    NaN         sanyabun                 NaN   \n",
       "14638                    NaN       SraJackson                 NaN   \n",
       "14639                    NaN        daviddtwu                 NaN   \n",
       "\n",
       "       retweet_count                                               text  \\\n",
       "0                0.0                @VirginAmerica What @dhepburn said.   \n",
       "1                0.0  @VirginAmerica plus you've added commercials t...   \n",
       "2                0.0  @VirginAmerica I didn't today... Must mean I n...   \n",
       "3                0.0  @VirginAmerica it's really aggressive to blast...   \n",
       "4                0.0  @VirginAmerica and it's a really big bad thing...   \n",
       "...              ...                                                ...   \n",
       "14635            0.0  @AmericanAir thank you we got on a different f...   \n",
       "14636            0.0  @AmericanAir leaving over 20 minutes Late Flig...   \n",
       "14637            0.0  @AmericanAir Please bring American Airlines to...   \n",
       "14638            0.0  @AmericanAir you have my money, you change my ...   \n",
       "14639            0.0  @AmericanAir we have 8 ppl so we need 2 know h...   \n",
       "\n",
       "      tweet_coord              tweet_created tweet_location  \\\n",
       "0             NaN  2015-02-24 11:35:52 -0800            NaN   \n",
       "1             NaN  2015-02-24 11:15:59 -0800            NaN   \n",
       "2             NaN  2015-02-24 11:15:48 -0800      Lets Play   \n",
       "3             NaN  2015-02-24 11:15:36 -0800            NaN   \n",
       "4             NaN  2015-02-24 11:14:45 -0800            NaN   \n",
       "...           ...                        ...            ...   \n",
       "14635         NaN  2015-02-22 12:01:01 -0800            NaN   \n",
       "14636         NaN  2015-02-22 11:59:46 -0800          Texas   \n",
       "14637         NaN  2015-02-22 11:59:15 -0800  Nigeria,lagos   \n",
       "14638         NaN  2015-02-22 11:59:02 -0800     New Jersey   \n",
       "14639         NaN  2015-02-22 11:58:51 -0800     dallas, TX   \n",
       "\n",
       "                    user_timezone  \n",
       "0      Eastern Time (US & Canada)  \n",
       "1      Pacific Time (US & Canada)  \n",
       "2      Central Time (US & Canada)  \n",
       "3      Pacific Time (US & Canada)  \n",
       "4      Pacific Time (US & Canada)  \n",
       "...                           ...  \n",
       "14635                         NaN  \n",
       "14636                         NaN  \n",
       "14637                         NaN  \n",
       "14638  Eastern Time (US & Canada)  \n",
       "14639                         NaN  \n",
       "\n",
       "[14640 rows x 15 columns]"
      ]
     },
     "execution_count": 2,
     "metadata": {},
     "output_type": "execute_result"
    }
   ],
   "source": [
    "data = pd.read_csv('Tweets.csv',na_values=True)\n",
    "data"
   ]
  },
  {
   "cell_type": "code",
   "execution_count": 3,
   "id": "b1e7b034",
   "metadata": {},
   "outputs": [
    {
     "data": {
      "text/plain": [
       "tweet_id                            0\n",
       "airline_sentiment                   0\n",
       "airline_sentiment_confidence    10445\n",
       "negativereason                   5462\n",
       "negativereason_confidence        7554\n",
       "airline                             0\n",
       "airline_sentiment_gold          14600\n",
       "name                                0\n",
       "negativereason_gold             14608\n",
       "retweet_count                     640\n",
       "text                                0\n",
       "tweet_coord                     13621\n",
       "tweet_created                       0\n",
       "tweet_location                   4733\n",
       "user_timezone                    4820\n",
       "dtype: int64"
      ]
     },
     "execution_count": 3,
     "metadata": {},
     "output_type": "execute_result"
    }
   ],
   "source": [
    "data.isnull().sum()"
   ]
  },
  {
   "cell_type": "code",
   "execution_count": 4,
   "id": "691e61b9",
   "metadata": {},
   "outputs": [],
   "source": [
    "data['airline_sentiment_confidence']=data['airline_sentiment_confidence'].replace(np.nan,0)"
   ]
  },
  {
   "cell_type": "code",
   "execution_count": 5,
   "id": "65e41718",
   "metadata": {},
   "outputs": [
    {
     "data": {
      "text/plain": [
       "0"
      ]
     },
     "execution_count": 5,
     "metadata": {},
     "output_type": "execute_result"
    }
   ],
   "source": [
    "data['airline_sentiment_confidence'].isnull().sum()"
   ]
  },
  {
   "cell_type": "code",
   "execution_count": 6,
   "id": "3785d488",
   "metadata": {},
   "outputs": [],
   "source": [
    "data['negativereason']= data['negativereason'].replace()"
   ]
  },
  {
   "cell_type": "code",
   "execution_count": 7,
   "id": "8f59b18b",
   "metadata": {},
   "outputs": [],
   "source": [
    "data['negativereason_confidence']=data['negativereason_confidence'].replace(np.nan,0)"
   ]
  },
  {
   "cell_type": "code",
   "execution_count": 8,
   "id": "53b91e58",
   "metadata": {},
   "outputs": [
    {
     "data": {
      "text/plain": [
       "0"
      ]
     },
     "execution_count": 8,
     "metadata": {},
     "output_type": "execute_result"
    }
   ],
   "source": [
    "data['negativereason_confidence'].isnull().sum()"
   ]
  },
  {
   "cell_type": "code",
   "execution_count": 9,
   "id": "9946ef3e",
   "metadata": {},
   "outputs": [
    {
     "data": {
      "text/plain": [
       "array([nan, 'negative', 'neutral', 'positive'], dtype=object)"
      ]
     },
     "execution_count": 9,
     "metadata": {},
     "output_type": "execute_result"
    }
   ],
   "source": [
    "#data['airline_sentiment_gold']= data['airline_sentiment_gold'].replace(np.nan,0.0)\n",
    "data['airline_sentiment_gold'].unique()"
   ]
  },
  {
   "cell_type": "code",
   "execution_count": 10,
   "id": "11da74e1",
   "metadata": {},
   "outputs": [],
   "source": [
    "data['retweet_count']=data['retweet_count'].replace(np.nan,0)"
   ]
  },
  {
   "cell_type": "code",
   "execution_count": 11,
   "id": "30953485",
   "metadata": {},
   "outputs": [
    {
     "data": {
      "text/plain": [
       "0"
      ]
     },
     "execution_count": 11,
     "metadata": {},
     "output_type": "execute_result"
    }
   ],
   "source": [
    "data['retweet_count'].isnull().sum()"
   ]
  },
  {
   "cell_type": "code",
   "execution_count": 12,
   "id": "fe0e4f82",
   "metadata": {},
   "outputs": [],
   "source": [
    "data['tweet_coord']=data['tweet_coord'].replace(np.nan,0)"
   ]
  },
  {
   "cell_type": "code",
   "execution_count": 13,
   "id": "ddfc2b64",
   "metadata": {},
   "outputs": [
    {
     "data": {
      "text/plain": [
       "0"
      ]
     },
     "execution_count": 13,
     "metadata": {},
     "output_type": "execute_result"
    }
   ],
   "source": [
    "data['tweet_coord'].isnull().sum()"
   ]
  },
  {
   "cell_type": "markdown",
   "id": "d89eb61c",
   "metadata": {},
   "source": [
    "Here we see that in the columns airline_sentiment_gold and negativereason_gold, the number of missing columns are large than the actual values present\n",
    "Hence we decide to drop the columns "
   ]
  },
  {
   "cell_type": "code",
   "execution_count": 14,
   "id": "b060702a",
   "metadata": {},
   "outputs": [],
   "source": [
    "data1 = data.drop(['airline_sentiment_gold','negativereason_gold'],axis=1)"
   ]
  },
  {
   "cell_type": "code",
   "execution_count": 15,
   "id": "b17b365a",
   "metadata": {},
   "outputs": [
    {
     "data": {
      "text/html": [
       "<div>\n",
       "<style scoped>\n",
       "    .dataframe tbody tr th:only-of-type {\n",
       "        vertical-align: middle;\n",
       "    }\n",
       "\n",
       "    .dataframe tbody tr th {\n",
       "        vertical-align: top;\n",
       "    }\n",
       "\n",
       "    .dataframe thead th {\n",
       "        text-align: right;\n",
       "    }\n",
       "</style>\n",
       "<table border=\"1\" class=\"dataframe\">\n",
       "  <thead>\n",
       "    <tr style=\"text-align: right;\">\n",
       "      <th></th>\n",
       "      <th>tweet_id</th>\n",
       "      <th>airline_sentiment</th>\n",
       "      <th>airline_sentiment_confidence</th>\n",
       "      <th>negativereason</th>\n",
       "      <th>negativereason_confidence</th>\n",
       "      <th>airline</th>\n",
       "      <th>name</th>\n",
       "      <th>retweet_count</th>\n",
       "      <th>text</th>\n",
       "      <th>tweet_coord</th>\n",
       "      <th>tweet_created</th>\n",
       "      <th>tweet_location</th>\n",
       "      <th>user_timezone</th>\n",
       "    </tr>\n",
       "  </thead>\n",
       "  <tbody>\n",
       "    <tr>\n",
       "      <th>0</th>\n",
       "      <td>570306133677760513</td>\n",
       "      <td>neutral</td>\n",
       "      <td>0.0000</td>\n",
       "      <td>NaN</td>\n",
       "      <td>0.0000</td>\n",
       "      <td>Virgin America</td>\n",
       "      <td>cairdin</td>\n",
       "      <td>0.0</td>\n",
       "      <td>@VirginAmerica What @dhepburn said.</td>\n",
       "      <td>0</td>\n",
       "      <td>2015-02-24 11:35:52 -0800</td>\n",
       "      <td>NaN</td>\n",
       "      <td>Eastern Time (US &amp; Canada)</td>\n",
       "    </tr>\n",
       "    <tr>\n",
       "      <th>1</th>\n",
       "      <td>570301130888122368</td>\n",
       "      <td>positive</td>\n",
       "      <td>0.3486</td>\n",
       "      <td>NaN</td>\n",
       "      <td>0.0000</td>\n",
       "      <td>Virgin America</td>\n",
       "      <td>jnardino</td>\n",
       "      <td>0.0</td>\n",
       "      <td>@VirginAmerica plus you've added commercials t...</td>\n",
       "      <td>0</td>\n",
       "      <td>2015-02-24 11:15:59 -0800</td>\n",
       "      <td>NaN</td>\n",
       "      <td>Pacific Time (US &amp; Canada)</td>\n",
       "    </tr>\n",
       "    <tr>\n",
       "      <th>2</th>\n",
       "      <td>570301083672813571</td>\n",
       "      <td>neutral</td>\n",
       "      <td>0.6837</td>\n",
       "      <td>NaN</td>\n",
       "      <td>0.0000</td>\n",
       "      <td>Virgin America</td>\n",
       "      <td>yvonnalynn</td>\n",
       "      <td>0.0</td>\n",
       "      <td>@VirginAmerica I didn't today... Must mean I n...</td>\n",
       "      <td>0</td>\n",
       "      <td>2015-02-24 11:15:48 -0800</td>\n",
       "      <td>Lets Play</td>\n",
       "      <td>Central Time (US &amp; Canada)</td>\n",
       "    </tr>\n",
       "    <tr>\n",
       "      <th>3</th>\n",
       "      <td>570301031407624196</td>\n",
       "      <td>negative</td>\n",
       "      <td>0.0000</td>\n",
       "      <td>Bad Flight</td>\n",
       "      <td>0.7033</td>\n",
       "      <td>Virgin America</td>\n",
       "      <td>jnardino</td>\n",
       "      <td>0.0</td>\n",
       "      <td>@VirginAmerica it's really aggressive to blast...</td>\n",
       "      <td>0</td>\n",
       "      <td>2015-02-24 11:15:36 -0800</td>\n",
       "      <td>NaN</td>\n",
       "      <td>Pacific Time (US &amp; Canada)</td>\n",
       "    </tr>\n",
       "    <tr>\n",
       "      <th>4</th>\n",
       "      <td>570300817074462722</td>\n",
       "      <td>negative</td>\n",
       "      <td>0.0000</td>\n",
       "      <td>Can't Tell</td>\n",
       "      <td>0.0000</td>\n",
       "      <td>Virgin America</td>\n",
       "      <td>jnardino</td>\n",
       "      <td>0.0</td>\n",
       "      <td>@VirginAmerica and it's a really big bad thing...</td>\n",
       "      <td>0</td>\n",
       "      <td>2015-02-24 11:14:45 -0800</td>\n",
       "      <td>NaN</td>\n",
       "      <td>Pacific Time (US &amp; Canada)</td>\n",
       "    </tr>\n",
       "  </tbody>\n",
       "</table>\n",
       "</div>"
      ],
      "text/plain": [
       "             tweet_id airline_sentiment  airline_sentiment_confidence  \\\n",
       "0  570306133677760513           neutral                        0.0000   \n",
       "1  570301130888122368          positive                        0.3486   \n",
       "2  570301083672813571           neutral                        0.6837   \n",
       "3  570301031407624196          negative                        0.0000   \n",
       "4  570300817074462722          negative                        0.0000   \n",
       "\n",
       "  negativereason  negativereason_confidence         airline        name  \\\n",
       "0            NaN                     0.0000  Virgin America     cairdin   \n",
       "1            NaN                     0.0000  Virgin America    jnardino   \n",
       "2            NaN                     0.0000  Virgin America  yvonnalynn   \n",
       "3     Bad Flight                     0.7033  Virgin America    jnardino   \n",
       "4     Can't Tell                     0.0000  Virgin America    jnardino   \n",
       "\n",
       "   retweet_count                                               text  \\\n",
       "0            0.0                @VirginAmerica What @dhepburn said.   \n",
       "1            0.0  @VirginAmerica plus you've added commercials t...   \n",
       "2            0.0  @VirginAmerica I didn't today... Must mean I n...   \n",
       "3            0.0  @VirginAmerica it's really aggressive to blast...   \n",
       "4            0.0  @VirginAmerica and it's a really big bad thing...   \n",
       "\n",
       "  tweet_coord              tweet_created tweet_location  \\\n",
       "0           0  2015-02-24 11:35:52 -0800            NaN   \n",
       "1           0  2015-02-24 11:15:59 -0800            NaN   \n",
       "2           0  2015-02-24 11:15:48 -0800      Lets Play   \n",
       "3           0  2015-02-24 11:15:36 -0800            NaN   \n",
       "4           0  2015-02-24 11:14:45 -0800            NaN   \n",
       "\n",
       "                user_timezone  \n",
       "0  Eastern Time (US & Canada)  \n",
       "1  Pacific Time (US & Canada)  \n",
       "2  Central Time (US & Canada)  \n",
       "3  Pacific Time (US & Canada)  \n",
       "4  Pacific Time (US & Canada)  "
      ]
     },
     "execution_count": 15,
     "metadata": {},
     "output_type": "execute_result"
    }
   ],
   "source": [
    "data1.head()"
   ]
  },
  {
   "cell_type": "code",
   "execution_count": 16,
   "id": "4ee5b170",
   "metadata": {},
   "outputs": [
    {
     "data": {
      "text/plain": [
       "tweet_id                           0\n",
       "airline_sentiment                  0\n",
       "airline_sentiment_confidence       0\n",
       "negativereason                     3\n",
       "negativereason_confidence          0\n",
       "airline                            0\n",
       "name                               0\n",
       "retweet_count                      0\n",
       "text                               0\n",
       "tweet_coord                        0\n",
       "tweet_created                      0\n",
       "tweet_location                  4733\n",
       "user_timezone                   4820\n",
       "dtype: int64"
      ]
     },
     "execution_count": 16,
     "metadata": {},
     "output_type": "execute_result"
    }
   ],
   "source": [
    "data1.isnull().sum()"
   ]
  },
  {
   "cell_type": "code",
   "execution_count": 17,
   "id": "c5f64bf6",
   "metadata": {},
   "outputs": [],
   "source": [
    "data1['negativereason']=data['negativereason'].replace(np.nan,'NaN')"
   ]
  },
  {
   "cell_type": "code",
   "execution_count": 18,
   "id": "6f02bd89",
   "metadata": {},
   "outputs": [],
   "source": [
    "data1['tweet_location']=data['tweet_location'].replace(np.nan,'NaN')"
   ]
  },
  {
   "cell_type": "code",
   "execution_count": 19,
   "id": "83731122",
   "metadata": {},
   "outputs": [],
   "source": [
    "data1['user_timezone']=data['user_timezone'].replace(np.nan,'NaN')"
   ]
  },
  {
   "cell_type": "code",
   "execution_count": 20,
   "id": "4f734c3b",
   "metadata": {},
   "outputs": [
    {
     "data": {
      "text/plain": [
       "tweet_id                        0\n",
       "airline_sentiment               0\n",
       "airline_sentiment_confidence    0\n",
       "negativereason                  0\n",
       "negativereason_confidence       0\n",
       "airline                         0\n",
       "name                            0\n",
       "retweet_count                   0\n",
       "text                            0\n",
       "tweet_coord                     0\n",
       "tweet_created                   0\n",
       "tweet_location                  0\n",
       "user_timezone                   0\n",
       "dtype: int64"
      ]
     },
     "execution_count": 20,
     "metadata": {},
     "output_type": "execute_result"
    }
   ],
   "source": [
    "data1.isnull().sum()"
   ]
  },
  {
   "cell_type": "code",
   "execution_count": 21,
   "id": "902f2313",
   "metadata": {},
   "outputs": [
    {
     "data": {
      "text/plain": [
       "NaN                           4820\n",
       "Eastern Time (US & Canada)    3744\n",
       "Central Time (US & Canada)    1931\n",
       "Pacific Time (US & Canada)    1208\n",
       "Quito                          738\n",
       "                              ... \n",
       "Pretoria                         1\n",
       "Warsaw                           1\n",
       "Prague                           1\n",
       "Tokyo                            1\n",
       "Saskatchewan                     1\n",
       "Name: user_timezone, Length: 86, dtype: int64"
      ]
     },
     "execution_count": 21,
     "metadata": {},
     "output_type": "execute_result"
    }
   ],
   "source": [
    "data1['user_timezone'].value_counts()"
   ]
  },
  {
   "cell_type": "markdown",
   "id": "9e9e1ef8",
   "metadata": {},
   "source": [
    "# Selecting the required columns and pre-process if needed."
   ]
  },
  {
   "cell_type": "markdown",
   "id": "c7fd7c79",
   "metadata": {},
   "source": [
    "####  Above we have treated all the missing values that are present in the dataset and we take data1 as the input to build the model"
   ]
  },
  {
   "cell_type": "code",
   "execution_count": 22,
   "id": "4dbd8cbc",
   "metadata": {},
   "outputs": [
    {
     "data": {
      "text/html": [
       "<div>\n",
       "<style scoped>\n",
       "    .dataframe tbody tr th:only-of-type {\n",
       "        vertical-align: middle;\n",
       "    }\n",
       "\n",
       "    .dataframe tbody tr th {\n",
       "        vertical-align: top;\n",
       "    }\n",
       "\n",
       "    .dataframe thead th {\n",
       "        text-align: right;\n",
       "    }\n",
       "</style>\n",
       "<table border=\"1\" class=\"dataframe\">\n",
       "  <thead>\n",
       "    <tr style=\"text-align: right;\">\n",
       "      <th></th>\n",
       "      <th>text</th>\n",
       "      <th>airline_sentiment</th>\n",
       "    </tr>\n",
       "  </thead>\n",
       "  <tbody>\n",
       "    <tr>\n",
       "      <th>0</th>\n",
       "      <td>@VirginAmerica What @dhepburn said.</td>\n",
       "      <td>neutral</td>\n",
       "    </tr>\n",
       "    <tr>\n",
       "      <th>1</th>\n",
       "      <td>@VirginAmerica plus you've added commercials t...</td>\n",
       "      <td>positive</td>\n",
       "    </tr>\n",
       "    <tr>\n",
       "      <th>2</th>\n",
       "      <td>@VirginAmerica I didn't today... Must mean I n...</td>\n",
       "      <td>neutral</td>\n",
       "    </tr>\n",
       "    <tr>\n",
       "      <th>3</th>\n",
       "      <td>@VirginAmerica it's really aggressive to blast...</td>\n",
       "      <td>negative</td>\n",
       "    </tr>\n",
       "    <tr>\n",
       "      <th>4</th>\n",
       "      <td>@VirginAmerica and it's a really big bad thing...</td>\n",
       "      <td>negative</td>\n",
       "    </tr>\n",
       "  </tbody>\n",
       "</table>\n",
       "</div>"
      ],
      "text/plain": [
       "                                                text airline_sentiment\n",
       "0                @VirginAmerica What @dhepburn said.           neutral\n",
       "1  @VirginAmerica plus you've added commercials t...          positive\n",
       "2  @VirginAmerica I didn't today... Must mean I n...           neutral\n",
       "3  @VirginAmerica it's really aggressive to blast...          negative\n",
       "4  @VirginAmerica and it's a really big bad thing...          negative"
      ]
     },
     "execution_count": 22,
     "metadata": {},
     "output_type": "execute_result"
    }
   ],
   "source": [
    "t1 = pd.DataFrame(data1['text'])\n",
    "t2= pd.DataFrame(data1['airline_sentiment'])\n",
    "text = pd.concat([t1,t2],axis=1)\n",
    "text.head()"
   ]
  },
  {
   "cell_type": "markdown",
   "id": "2da7f923",
   "metadata": {},
   "source": [
    "# 2. Perform text pre-processing and tokenization"
   ]
  },
  {
   "cell_type": "code",
   "execution_count": 23,
   "id": "e7317dcb",
   "metadata": {},
   "outputs": [
    {
     "data": {
      "text/plain": [
       "0                                         what   said.\n",
       "1      plus you've added commercials to the experie...\n",
       "2      i didn't today... must mean i need to take a...\n",
       "3      it's really aggressive to blast obnoxious \"e...\n",
       "4             and it's a really big bad thing about it\n",
       "5      seriously would pay $30 a flight for seats t...\n",
       "6      yes, nearly every time i fly vx this “ear wo...\n",
       "7      really missed a prime opportunity for men wi...\n",
       "8                     well, i didn't…but now i do! :-d\n",
       "9      it was amazing, and arrived an hour early. y...\n",
       "Name: text, dtype: object"
      ]
     },
     "execution_count": 23,
     "metadata": {},
     "output_type": "execute_result"
    }
   ],
   "source": [
    "\n",
    "#Removing RT, Punctuation etc\n",
    "remove_rt = lambda x: re.sub('RT @\\w+: ',' ',x)\n",
    "rt = lambda x: re.sub('(@[A-Za-z0–9]+)|(\\w+:\\/\\/\\S+)',' ',x)\n",
    "text['text'] = text.text.map(remove_rt).map(rt)\n",
    "text['text'] = text.text.str.lower()\n",
    "text['text'].head(10)"
   ]
  },
  {
   "cell_type": "code",
   "execution_count": 24,
   "id": "61c1e52f",
   "metadata": {},
   "outputs": [],
   "source": [
    "def clean_text(sent):\n",
    "    sent =sent.lower()\n",
    "    tokens = word_tokenize(sent)\n",
    "    stop_updated = stopwords.words('english')+list(punctuation)\n",
    "    final_word = [term for term in tokens if term not in stop_updated and len(term)>2]\n",
    "    res= ' '.join(final_word)\n",
    "    return res"
   ]
  },
  {
   "cell_type": "code",
   "execution_count": 25,
   "id": "85f7ed7d",
   "metadata": {},
   "outputs": [],
   "source": [
    "text['clean'] = text['text'].apply(lambda x:clean_text(x))"
   ]
  },
  {
   "cell_type": "code",
   "execution_count": 89,
   "id": "120c008d",
   "metadata": {},
   "outputs": [
    {
     "data": {
      "text/plain": [
       "(array([0, 1, 0, ..., 0, 2, 0], dtype=int64),\n",
       " Index(['neutral', 'positive', 'negative'], dtype='object'))"
      ]
     },
     "execution_count": 89,
     "metadata": {},
     "output_type": "execute_result"
    }
   ],
   "source": [
    "sentiment_label = text.airline_sentiment.factorize()\n",
    "sentiment_label"
   ]
  },
  {
   "cell_type": "markdown",
   "id": "86ae372b",
   "metadata": {},
   "source": [
    "# Data after preproceesing and Tokenization\n"
   ]
  },
  {
   "cell_type": "code",
   "execution_count": 26,
   "id": "b0b11ab1",
   "metadata": {},
   "outputs": [
    {
     "data": {
      "text/plain": [
       "0                                                 said\n",
       "1      plus 've added commercials experience ... tacky\n",
       "2       n't today ... must mean need take another trip\n",
       "3    really aggressive blast obnoxious entertainmen...\n",
       "4                                 really big bad thing\n",
       "Name: clean, dtype: object"
      ]
     },
     "execution_count": 26,
     "metadata": {},
     "output_type": "execute_result"
    }
   ],
   "source": [
    "text['clean'].head()"
   ]
  },
  {
   "cell_type": "markdown",
   "id": "fca13d18",
   "metadata": {},
   "source": [
    "# 2.a Printing the size of vocabulary"
   ]
  },
  {
   "cell_type": "code",
   "execution_count": 27,
   "id": "a7335bd0",
   "metadata": {},
   "outputs": [],
   "source": [
    "from sklearn.feature_extraction.text import CountVectorizer"
   ]
  },
  {
   "cell_type": "code",
   "execution_count": 28,
   "id": "83e9a8e6",
   "metadata": {},
   "outputs": [
    {
     "name": "stdout",
     "output_type": "stream",
     "text": [
      "14640 Number of reviews has 13187 words\n"
     ]
    }
   ],
   "source": [
    "countVectorizer = CountVectorizer() \n",
    "countVector = countVectorizer.fit_transform(text['text'])\n",
    "print('{} Number of reviews has {} words'.format(countVector.shape[0], countVector.shape[1]))\n",
    "#print(countVectorizer.get_feature_names())\n"
   ]
  },
  {
   "cell_type": "markdown",
   "id": "4d6f621e",
   "metadata": {},
   "source": [
    "# 2.b Print tweet and it corresponding encoded doc(vector)."
   ]
  },
  {
   "cell_type": "code",
   "execution_count": 29,
   "id": "55d67f70",
   "metadata": {},
   "outputs": [
    {
     "data": {
      "text/html": [
       "<div>\n",
       "<style scoped>\n",
       "    .dataframe tbody tr th:only-of-type {\n",
       "        vertical-align: middle;\n",
       "    }\n",
       "\n",
       "    .dataframe tbody tr th {\n",
       "        vertical-align: top;\n",
       "    }\n",
       "\n",
       "    .dataframe thead th {\n",
       "        text-align: right;\n",
       "    }\n",
       "</style>\n",
       "<table border=\"1\" class=\"dataframe\">\n",
       "  <thead>\n",
       "    <tr style=\"text-align: right;\">\n",
       "      <th></th>\n",
       "      <th>00</th>\n",
       "      <th>000</th>\n",
       "      <th>000114</th>\n",
       "      <th>000419</th>\n",
       "      <th>000ft</th>\n",
       "      <th>000lbs</th>\n",
       "      <th>0011</th>\n",
       "      <th>0016</th>\n",
       "      <th>00a</th>\n",
       "      <th>00am</th>\n",
       "      <th>...</th>\n",
       "      <th>zig</th>\n",
       "      <th>zip</th>\n",
       "      <th>zippers</th>\n",
       "      <th>zombie</th>\n",
       "      <th>zone</th>\n",
       "      <th>zones</th>\n",
       "      <th>zoom</th>\n",
       "      <th>zrh</th>\n",
       "      <th>zukes</th>\n",
       "      <th>zurich</th>\n",
       "    </tr>\n",
       "  </thead>\n",
       "  <tbody>\n",
       "    <tr>\n",
       "      <th>0</th>\n",
       "      <td>0</td>\n",
       "      <td>0</td>\n",
       "      <td>0</td>\n",
       "      <td>0</td>\n",
       "      <td>0</td>\n",
       "      <td>0</td>\n",
       "      <td>0</td>\n",
       "      <td>0</td>\n",
       "      <td>0</td>\n",
       "      <td>0</td>\n",
       "      <td>...</td>\n",
       "      <td>0</td>\n",
       "      <td>0</td>\n",
       "      <td>0</td>\n",
       "      <td>0</td>\n",
       "      <td>0</td>\n",
       "      <td>0</td>\n",
       "      <td>0</td>\n",
       "      <td>0</td>\n",
       "      <td>0</td>\n",
       "      <td>0</td>\n",
       "    </tr>\n",
       "    <tr>\n",
       "      <th>1</th>\n",
       "      <td>0</td>\n",
       "      <td>0</td>\n",
       "      <td>0</td>\n",
       "      <td>0</td>\n",
       "      <td>0</td>\n",
       "      <td>0</td>\n",
       "      <td>0</td>\n",
       "      <td>0</td>\n",
       "      <td>0</td>\n",
       "      <td>0</td>\n",
       "      <td>...</td>\n",
       "      <td>0</td>\n",
       "      <td>0</td>\n",
       "      <td>0</td>\n",
       "      <td>0</td>\n",
       "      <td>0</td>\n",
       "      <td>0</td>\n",
       "      <td>0</td>\n",
       "      <td>0</td>\n",
       "      <td>0</td>\n",
       "      <td>0</td>\n",
       "    </tr>\n",
       "    <tr>\n",
       "      <th>2</th>\n",
       "      <td>0</td>\n",
       "      <td>0</td>\n",
       "      <td>0</td>\n",
       "      <td>0</td>\n",
       "      <td>0</td>\n",
       "      <td>0</td>\n",
       "      <td>0</td>\n",
       "      <td>0</td>\n",
       "      <td>0</td>\n",
       "      <td>0</td>\n",
       "      <td>...</td>\n",
       "      <td>0</td>\n",
       "      <td>0</td>\n",
       "      <td>0</td>\n",
       "      <td>0</td>\n",
       "      <td>0</td>\n",
       "      <td>0</td>\n",
       "      <td>0</td>\n",
       "      <td>0</td>\n",
       "      <td>0</td>\n",
       "      <td>0</td>\n",
       "    </tr>\n",
       "    <tr>\n",
       "      <th>3</th>\n",
       "      <td>0</td>\n",
       "      <td>0</td>\n",
       "      <td>0</td>\n",
       "      <td>0</td>\n",
       "      <td>0</td>\n",
       "      <td>0</td>\n",
       "      <td>0</td>\n",
       "      <td>0</td>\n",
       "      <td>0</td>\n",
       "      <td>0</td>\n",
       "      <td>...</td>\n",
       "      <td>0</td>\n",
       "      <td>0</td>\n",
       "      <td>0</td>\n",
       "      <td>0</td>\n",
       "      <td>0</td>\n",
       "      <td>0</td>\n",
       "      <td>0</td>\n",
       "      <td>0</td>\n",
       "      <td>0</td>\n",
       "      <td>0</td>\n",
       "    </tr>\n",
       "    <tr>\n",
       "      <th>4</th>\n",
       "      <td>0</td>\n",
       "      <td>0</td>\n",
       "      <td>0</td>\n",
       "      <td>0</td>\n",
       "      <td>0</td>\n",
       "      <td>0</td>\n",
       "      <td>0</td>\n",
       "      <td>0</td>\n",
       "      <td>0</td>\n",
       "      <td>0</td>\n",
       "      <td>...</td>\n",
       "      <td>0</td>\n",
       "      <td>0</td>\n",
       "      <td>0</td>\n",
       "      <td>0</td>\n",
       "      <td>0</td>\n",
       "      <td>0</td>\n",
       "      <td>0</td>\n",
       "      <td>0</td>\n",
       "      <td>0</td>\n",
       "      <td>0</td>\n",
       "    </tr>\n",
       "  </tbody>\n",
       "</table>\n",
       "<p>5 rows × 13187 columns</p>\n",
       "</div>"
      ],
      "text/plain": [
       "   00  000  000114  000419  000ft  000lbs  0011  0016  00a  00am  ...  zig  \\\n",
       "0   0    0       0       0      0       0     0     0    0     0  ...    0   \n",
       "1   0    0       0       0      0       0     0     0    0     0  ...    0   \n",
       "2   0    0       0       0      0       0     0     0    0     0  ...    0   \n",
       "3   0    0       0       0      0       0     0     0    0     0  ...    0   \n",
       "4   0    0       0       0      0       0     0     0    0     0  ...    0   \n",
       "\n",
       "   zip  zippers  zombie  zone  zones  zoom  zrh  zukes  zurich  \n",
       "0    0        0       0     0      0     0    0      0       0  \n",
       "1    0        0       0     0      0     0    0      0       0  \n",
       "2    0        0       0     0      0     0    0      0       0  \n",
       "3    0        0       0     0      0     0    0      0       0  \n",
       "4    0        0       0     0      0     0    0      0       0  \n",
       "\n",
       "[5 rows x 13187 columns]"
      ]
     },
     "execution_count": 29,
     "metadata": {},
     "output_type": "execute_result"
    }
   ],
   "source": [
    "count_vect_df = pd.DataFrame(countVector.toarray(), columns=countVectorizer.get_feature_names())\n",
    "count_vect_df.head()"
   ]
  },
  {
   "cell_type": "markdown",
   "id": "dd144f17",
   "metadata": {},
   "source": [
    "## Spliting the data into training and testing"
   ]
  },
  {
   "cell_type": "code",
   "execution_count": 30,
   "id": "bde1dacf",
   "metadata": {},
   "outputs": [],
   "source": [
    "X= text['text']\n",
    "y=text['airline_sentiment']"
   ]
  },
  {
   "cell_type": "code",
   "execution_count": 31,
   "id": "71230ad8",
   "metadata": {},
   "outputs": [],
   "source": [
    "from sklearn.preprocessing import LabelEncoder\n",
    "from sklearn.model_selection import train_test_split"
   ]
  },
  {
   "cell_type": "code",
   "execution_count": 32,
   "id": "a494f244",
   "metadata": {},
   "outputs": [],
   "source": [
    "xtrain,xtest, ytrain, ytest = train_test_split(X,y,test_size=0.10, random_state=123)"
   ]
  },
  {
   "cell_type": "code",
   "execution_count": 33,
   "id": "8d82f481",
   "metadata": {},
   "outputs": [],
   "source": [
    "enc = LabelEncoder()"
   ]
  },
  {
   "cell_type": "code",
   "execution_count": 34,
   "id": "a0edafbd",
   "metadata": {},
   "outputs": [],
   "source": [
    "ytrain = enc.fit_transform(ytrain)\n"
   ]
  },
  {
   "cell_type": "code",
   "execution_count": 35,
   "id": "1667b535",
   "metadata": {},
   "outputs": [
    {
     "data": {
      "text/plain": [
       "array([0, 1, 1, ..., 0, 0, 0])"
      ]
     },
     "execution_count": 35,
     "metadata": {},
     "output_type": "execute_result"
    }
   ],
   "source": [
    "ytrain"
   ]
  },
  {
   "cell_type": "code",
   "execution_count": 36,
   "id": "76eaf546",
   "metadata": {},
   "outputs": [],
   "source": [
    "from keras.preprocessing.text import Tokenizer\n",
    "from keras.preprocessing.sequence import pad_sequences"
   ]
  },
  {
   "cell_type": "code",
   "execution_count": 37,
   "id": "841fecc7",
   "metadata": {},
   "outputs": [],
   "source": [
    "seq_length = 16 \n",
    "#how long each input sequence should be\n",
    "\n",
    "max_words= 10000\n",
    "#only want to consider only 10000 words in the corpus(data)"
   ]
  },
  {
   "cell_type": "code",
   "execution_count": 38,
   "id": "826b5c23",
   "metadata": {},
   "outputs": [],
   "source": [
    "tokenizer = Tokenizer(num_words=max_words)\n",
    "\n",
    "tokenizer.fit_on_texts(xtrain.tolist())\n",
    "\n",
    "sequence = tokenizer.texts_to_sequences(xtrain.tolist())\n",
    "\n",
    "train_features = pad_sequences(sequence , maxlen=seq_length)"
   ]
  },
  {
   "cell_type": "code",
   "execution_count": 39,
   "id": "4e5cd4cb",
   "metadata": {},
   "outputs": [
    {
     "data": {
      "text/plain": [
       "array([[   8,    5,   15, ..., 1038,   78,    5],\n",
       "       [1248,  161, 1186, ...,   15,    4, 2608],\n",
       "       [   0,    0,    0, ...,  750,    7,   28],\n",
       "       ...,\n",
       "       [  83,   41,   70, ...,   10, 2774, 1142],\n",
       "       [ 109,  861,    8, ...,  816,   24,  706],\n",
       "       [   7,   12,  555, ...,  237,   72, 3644]])"
      ]
     },
     "execution_count": 39,
     "metadata": {},
     "output_type": "execute_result"
    }
   ],
   "source": [
    "train_features"
   ]
  },
  {
   "cell_type": "code",
   "execution_count": 40,
   "id": "1610db4a",
   "metadata": {},
   "outputs": [
    {
     "data": {
      "text/plain": [
       "array([[  40,    1,  297, ...,  118,   23, 3161],\n",
       "       [  10,  983,   11, ...,  141,  161, 9559],\n",
       "       [ 269,   81,    4, ...,    6,    4,    7],\n",
       "       ...,\n",
       "       [   3,  195,    4, ...,   13,    2,   43],\n",
       "       [   9,  158,   21, ...,   11,  823,  542],\n",
       "       [ 328,   11,  912, ...,   85,  138,   90]])"
      ]
     },
     "execution_count": 40,
     "metadata": {},
     "output_type": "execute_result"
    }
   ],
   "source": [
    "sequence = tokenizer.texts_to_sequences(xtest.tolist())\n",
    "\n",
    "test_features = pad_sequences(sequence , maxlen=seq_length)\n",
    "test_features"
   ]
  },
  {
   "cell_type": "code",
   "execution_count": 41,
   "id": "3fd30a23",
   "metadata": {},
   "outputs": [
    {
     "data": {
      "text/plain": [
       "(1464, 16)"
      ]
     },
     "execution_count": 41,
     "metadata": {},
     "output_type": "execute_result"
    }
   ],
   "source": [
    "test_features.shape"
   ]
  },
  {
   "cell_type": "code",
   "execution_count": 42,
   "id": "16fbd36b",
   "metadata": {},
   "outputs": [
    {
     "data": {
      "text/plain": [
       "(13176, 16)"
      ]
     },
     "execution_count": 42,
     "metadata": {},
     "output_type": "execute_result"
    }
   ],
   "source": [
    "train_features.shape"
   ]
  },
  {
   "cell_type": "markdown",
   "id": "8afd8d51",
   "metadata": {},
   "source": [
    "# 3. Build the text classifier model using LSTM"
   ]
  },
  {
   "cell_type": "code",
   "execution_count": 43,
   "id": "954a3f54",
   "metadata": {},
   "outputs": [],
   "source": [
    "from tensorflow.keras.utils import to_categorical\n",
    "from keras.models import Sequential\n",
    "from keras.layers import Dense,LSTM, Embedding"
   ]
  },
  {
   "cell_type": "code",
   "execution_count": 44,
   "id": "ae0f8bd5",
   "metadata": {},
   "outputs": [],
   "source": [
    "model = Sequential()\n",
    "\n",
    "model.add(Embedding(input_dim=10000, output_dim=50,input_length= seq_length))\n",
    "\n",
    "model.add(LSTM(100))\n",
    "\n",
    "model.add(Dense(3,activation='softmax'))"
   ]
  },
  {
   "cell_type": "code",
   "execution_count": 45,
   "id": "ae0719a2",
   "metadata": {},
   "outputs": [],
   "source": [
    "ytrain = to_categorical(ytrain)"
   ]
  },
  {
   "cell_type": "code",
   "execution_count": 46,
   "id": "a37d6753",
   "metadata": {},
   "outputs": [
    {
     "data": {
      "text/plain": [
       "array([[1., 0., 0.],\n",
       "       [0., 1., 0.],\n",
       "       [0., 1., 0.],\n",
       "       ...,\n",
       "       [1., 0., 0.],\n",
       "       [1., 0., 0.],\n",
       "       [1., 0., 0.]], dtype=float32)"
      ]
     },
     "execution_count": 46,
     "metadata": {},
     "output_type": "execute_result"
    }
   ],
   "source": [
    "ytrain"
   ]
  },
  {
   "cell_type": "markdown",
   "id": "15d851e0",
   "metadata": {},
   "source": [
    "## Printing model summary"
   ]
  },
  {
   "cell_type": "code",
   "execution_count": 47,
   "id": "2fdfc5ab",
   "metadata": {},
   "outputs": [
    {
     "name": "stdout",
     "output_type": "stream",
     "text": [
      "Model: \"sequential\"\n",
      "_________________________________________________________________\n",
      "Layer (type)                 Output Shape              Param #   \n",
      "=================================================================\n",
      "embedding (Embedding)        (None, 16, 50)            500000    \n",
      "_________________________________________________________________\n",
      "lstm (LSTM)                  (None, 100)               60400     \n",
      "_________________________________________________________________\n",
      "dense (Dense)                (None, 3)                 303       \n",
      "=================================================================\n",
      "Total params: 560,703\n",
      "Trainable params: 560,703\n",
      "Non-trainable params: 0\n",
      "_________________________________________________________________\n"
     ]
    }
   ],
   "source": [
    "model.summary()"
   ]
  },
  {
   "cell_type": "code",
   "execution_count": 48,
   "id": "6a384a1b",
   "metadata": {},
   "outputs": [],
   "source": [
    "model.compile(loss='categorical_crossentropy', optimizer='rmsprop',\n",
    "             metrics=['accuracy'])"
   ]
  },
  {
   "cell_type": "code",
   "execution_count": 49,
   "id": "e4b72889",
   "metadata": {},
   "outputs": [
    {
     "data": {
      "text/plain": [
       "(13176, 3)"
      ]
     },
     "execution_count": 49,
     "metadata": {},
     "output_type": "execute_result"
    }
   ],
   "source": [
    "ytrain.shape"
   ]
  },
  {
   "cell_type": "code",
   "execution_count": 50,
   "id": "f06ad101",
   "metadata": {},
   "outputs": [
    {
     "data": {
      "text/plain": [
       "(13176, 16)"
      ]
     },
     "execution_count": 50,
     "metadata": {},
     "output_type": "execute_result"
    }
   ],
   "source": [
    "train_features.shape"
   ]
  },
  {
   "cell_type": "markdown",
   "id": "15b5bbfa",
   "metadata": {},
   "source": [
    "# 4. Train the model for 5 epoch and validation split as 20%"
   ]
  },
  {
   "cell_type": "code",
   "execution_count": 51,
   "id": "0c07e2a5",
   "metadata": {},
   "outputs": [
    {
     "name": "stdout",
     "output_type": "stream",
     "text": [
      "Epoch 1/5\n",
      "330/330 [==============================] - 6s 12ms/step - loss: 0.7171 - accuracy: 0.7053 - val_loss: 0.6302 - val_accuracy: 0.7500\n",
      "Epoch 2/5\n",
      "330/330 [==============================] - 3s 10ms/step - loss: 0.5389 - accuracy: 0.7907 - val_loss: 0.6029 - val_accuracy: 0.7576\n",
      "Epoch 3/5\n",
      "330/330 [==============================] - 3s 9ms/step - loss: 0.4643 - accuracy: 0.8205 - val_loss: 0.6518 - val_accuracy: 0.7705\n",
      "Epoch 4/5\n",
      "330/330 [==============================] - 3s 9ms/step - loss: 0.4187 - accuracy: 0.8403 - val_loss: 0.5776 - val_accuracy: 0.7951\n",
      "Epoch 5/5\n",
      "330/330 [==============================] - 3s 10ms/step - loss: 0.3848 - accuracy: 0.8563 - val_loss: 0.5668 - val_accuracy: 0.7830\n"
     ]
    }
   ],
   "source": [
    "H1= model.fit(train_features, ytrain, epochs=5 , batch_size= 32,validation_split=0.20)"
   ]
  },
  {
   "cell_type": "code",
   "execution_count": 52,
   "id": "17afe964",
   "metadata": {},
   "outputs": [],
   "source": [
    "from sklearn.metrics import classification_report,accuracy_score\n"
   ]
  },
  {
   "cell_type": "code",
   "execution_count": 53,
   "id": "89ee6511",
   "metadata": {},
   "outputs": [
    {
     "data": {
      "text/plain": [
       "array([[9.78881478e-01, 1.50606679e-02, 6.05779421e-03],\n",
       "       [7.25129962e-01, 1.49566084e-01, 1.25304013e-01],\n",
       "       [9.39514041e-01, 5.50088920e-02, 5.47712203e-03],\n",
       "       ...,\n",
       "       [9.51837242e-01, 2.89703421e-02, 1.91923920e-02],\n",
       "       [9.99179184e-01, 6.53238269e-04, 1.67623613e-04],\n",
       "       [4.91446316e-01, 4.96716440e-01, 1.18372245e-02]], dtype=float32)"
      ]
     },
     "execution_count": 53,
     "metadata": {},
     "output_type": "execute_result"
    }
   ],
   "source": [
    "predictions = model.predict(test_features, batch_size=1000)\n",
    "predictions"
   ]
  },
  {
   "cell_type": "code",
   "execution_count": 55,
   "id": "117b2ff9",
   "metadata": {
    "scrolled": true
   },
   "outputs": [
    {
     "data": {
      "text/plain": [
       "dict_items([('loss', [0.7171176671981812, 0.5389058589935303, 0.464252769947052, 0.41871580481529236, 0.384805291891098]), ('accuracy', [0.7053130865097046, 0.7907021045684814, 0.8204933404922485, 0.8403225541114807, 0.8562618494033813]), ('val_loss', [0.6301828622817993, 0.6028618812561035, 0.6518213152885437, 0.5776311755180359, 0.5667609572410583]), ('val_accuracy', [0.75, 0.7575872540473938, 0.7704855799674988, 0.7951441407203674, 0.7830045819282532])])"
      ]
     },
     "execution_count": 55,
     "metadata": {},
     "output_type": "execute_result"
    }
   ],
   "source": [
    "H1.history.items()"
   ]
  },
  {
   "cell_type": "code",
   "execution_count": 69,
   "id": "df4716d2",
   "metadata": {},
   "outputs": [
    {
     "data": {
      "text/html": [
       "<div>\n",
       "<style scoped>\n",
       "    .dataframe tbody tr th:only-of-type {\n",
       "        vertical-align: middle;\n",
       "    }\n",
       "\n",
       "    .dataframe tbody tr th {\n",
       "        vertical-align: top;\n",
       "    }\n",
       "\n",
       "    .dataframe thead th {\n",
       "        text-align: right;\n",
       "    }\n",
       "</style>\n",
       "<table border=\"1\" class=\"dataframe\">\n",
       "  <thead>\n",
       "    <tr style=\"text-align: right;\">\n",
       "      <th></th>\n",
       "      <th>loss</th>\n",
       "      <th>accuracy</th>\n",
       "      <th>val_loss</th>\n",
       "      <th>val_accuracy</th>\n",
       "    </tr>\n",
       "  </thead>\n",
       "  <tbody>\n",
       "    <tr>\n",
       "      <th>0</th>\n",
       "      <td>0.717118</td>\n",
       "      <td>0.705313</td>\n",
       "      <td>0.630183</td>\n",
       "      <td>0.750000</td>\n",
       "    </tr>\n",
       "    <tr>\n",
       "      <th>1</th>\n",
       "      <td>0.538906</td>\n",
       "      <td>0.790702</td>\n",
       "      <td>0.602862</td>\n",
       "      <td>0.757587</td>\n",
       "    </tr>\n",
       "    <tr>\n",
       "      <th>2</th>\n",
       "      <td>0.464253</td>\n",
       "      <td>0.820493</td>\n",
       "      <td>0.651821</td>\n",
       "      <td>0.770486</td>\n",
       "    </tr>\n",
       "    <tr>\n",
       "      <th>3</th>\n",
       "      <td>0.418716</td>\n",
       "      <td>0.840323</td>\n",
       "      <td>0.577631</td>\n",
       "      <td>0.795144</td>\n",
       "    </tr>\n",
       "    <tr>\n",
       "      <th>4</th>\n",
       "      <td>0.384805</td>\n",
       "      <td>0.856262</td>\n",
       "      <td>0.566761</td>\n",
       "      <td>0.783005</td>\n",
       "    </tr>\n",
       "  </tbody>\n",
       "</table>\n",
       "</div>"
      ],
      "text/plain": [
       "       loss  accuracy  val_loss  val_accuracy\n",
       "0  0.717118  0.705313  0.630183      0.750000\n",
       "1  0.538906  0.790702  0.602862      0.757587\n",
       "2  0.464253  0.820493  0.651821      0.770486\n",
       "3  0.418716  0.840323  0.577631      0.795144\n",
       "4  0.384805  0.856262  0.566761      0.783005"
      ]
     },
     "execution_count": 69,
     "metadata": {},
     "output_type": "execute_result"
    }
   ],
   "source": [
    "graph1 = pd.DataFrame(H1.history)\n",
    "graph1"
   ]
  },
  {
   "cell_type": "markdown",
   "id": "1c8d13ab",
   "metadata": {},
   "source": [
    "## 4.a. Plot the accuracy and loss"
   ]
  },
  {
   "cell_type": "code",
   "execution_count": 58,
   "id": "965e7aef",
   "metadata": {},
   "outputs": [
    {
     "data": {
      "text/plain": [
       "Text(0, 0.5, 'Accuracy')"
      ]
     },
     "execution_count": 58,
     "metadata": {},
     "output_type": "execute_result"
    },
    {
     "data": {
      "image/png": "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\n",
      "text/plain": [
       "<Figure size 432x288 with 1 Axes>"
      ]
     },
     "metadata": {},
     "output_type": "display_data"
    }
   ],
   "source": [
    "plt.style.use(\"ggplot\")\n",
    "plt.figure()\n",
    "plt.plot(graph1[\"accuracy\"], label=\"train_accuracy\")\n",
    "plt.plot(graph1[\"val_accuracy\"], label=\"val_accuracy\")\n",
    "\n",
    "plt.title(\"Training Accuracy\")\n",
    "plt.xlabel(\"Epoch \")\n",
    "plt.ylabel(\"Accuracy\")"
   ]
  },
  {
   "cell_type": "code",
   "execution_count": 60,
   "id": "bcf6ad3a",
   "metadata": {},
   "outputs": [
    {
     "data": {
      "text/plain": [
       "Text(0, 0.5, 'Loss')"
      ]
     },
     "execution_count": 60,
     "metadata": {},
     "output_type": "execute_result"
    },
    {
     "data": {
      "image/png": "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\n",
      "text/plain": [
       "<Figure size 432x288 with 1 Axes>"
      ]
     },
     "metadata": {},
     "output_type": "display_data"
    }
   ],
   "source": [
    "plt.style.use(\"ggplot\")\n",
    "plt.figure()\n",
    "plt.plot(graph1[\"loss\"], label=\"train_loss\")\n",
    "plt.plot(graph1[\"val_loss\"], label=\"val_loss\")\n",
    "\n",
    "plt.title(\"Training Loss\")\n",
    "plt.xlabel(\"Epoch \")\n",
    "plt.ylabel(\"Loss\")"
   ]
  },
  {
   "cell_type": "markdown",
   "id": "4e2c4fbe",
   "metadata": {},
   "source": [
    "# 4.b. Add a dropout layer of 20%."
   ]
  },
  {
   "cell_type": "code",
   "execution_count": 61,
   "id": "884f6d34",
   "metadata": {},
   "outputs": [],
   "source": [
    "from tensorflow.keras.layers import Dropout"
   ]
  },
  {
   "cell_type": "code",
   "execution_count": 62,
   "id": "06d91837",
   "metadata": {},
   "outputs": [],
   "source": [
    "model = Sequential()\n",
    "\n",
    "model.add(Embedding(input_dim=10000, output_dim=50,input_length= seq_length))\n",
    "\n",
    "model.add(LSTM(100))\n",
    "\n",
    "#adding dropout layer \n",
    "model.add(Dropout(0.2, seed= 100))\n",
    "\n",
    "model.add(Dense(3, activation=\"softmax\"))"
   ]
  },
  {
   "cell_type": "code",
   "execution_count": 68,
   "id": "35a55fc2",
   "metadata": {},
   "outputs": [
    {
     "name": "stdout",
     "output_type": "stream",
     "text": [
      "Model: \"sequential_1\"\n",
      "_________________________________________________________________\n",
      "Layer (type)                 Output Shape              Param #   \n",
      "=================================================================\n",
      "embedding_1 (Embedding)      (None, 16, 50)            500000    \n",
      "_________________________________________________________________\n",
      "lstm_1 (LSTM)                (None, 100)               60400     \n",
      "_________________________________________________________________\n",
      "dropout (Dropout)            (None, 100)               0         \n",
      "_________________________________________________________________\n",
      "dense_1 (Dense)              (None, 3)                 303       \n",
      "=================================================================\n",
      "Total params: 560,703\n",
      "Trainable params: 560,703\n",
      "Non-trainable params: 0\n",
      "_________________________________________________________________\n"
     ]
    }
   ],
   "source": [
    "model.summary()"
   ]
  },
  {
   "cell_type": "code",
   "execution_count": 63,
   "id": "8b287fb0",
   "metadata": {},
   "outputs": [],
   "source": [
    "model.compile(loss='categorical_crossentropy', optimizer='rmsprop',\n",
    "             metrics=['accuracy'])"
   ]
  },
  {
   "cell_type": "code",
   "execution_count": 64,
   "id": "06bf3aa1",
   "metadata": {},
   "outputs": [
    {
     "name": "stdout",
     "output_type": "stream",
     "text": [
      "Epoch 1/5\n",
      "330/330 [==============================] - 4s 9ms/step - loss: 0.7177 - accuracy: 0.7076 - val_loss: 0.6451 - val_accuracy: 0.7405\n",
      "Epoch 2/5\n",
      "330/330 [==============================] - 3s 9ms/step - loss: 0.5324 - accuracy: 0.7929 - val_loss: 0.5864 - val_accuracy: 0.7750\n",
      "Epoch 3/5\n",
      "330/330 [==============================] - 3s 9ms/step - loss: 0.4584 - accuracy: 0.8255 - val_loss: 0.5804 - val_accuracy: 0.7853\n",
      "Epoch 4/5\n",
      "330/330 [==============================] - 3s 9ms/step - loss: 0.4171 - accuracy: 0.8417 - val_loss: 0.5787 - val_accuracy: 0.7887\n",
      "Epoch 5/5\n",
      "330/330 [==============================] - 3s 9ms/step - loss: 0.3860 - accuracy: 0.8568 - val_loss: 0.5751 - val_accuracy: 0.7811\n"
     ]
    }
   ],
   "source": [
    "H= model.fit(train_features, ytrain, epochs=5 , batch_size= 32,validation_split=0.20)"
   ]
  },
  {
   "cell_type": "code",
   "execution_count": 65,
   "id": "4eb6d84e",
   "metadata": {},
   "outputs": [
    {
     "data": {
      "text/html": [
       "<div>\n",
       "<style scoped>\n",
       "    .dataframe tbody tr th:only-of-type {\n",
       "        vertical-align: middle;\n",
       "    }\n",
       "\n",
       "    .dataframe tbody tr th {\n",
       "        vertical-align: top;\n",
       "    }\n",
       "\n",
       "    .dataframe thead th {\n",
       "        text-align: right;\n",
       "    }\n",
       "</style>\n",
       "<table border=\"1\" class=\"dataframe\">\n",
       "  <thead>\n",
       "    <tr style=\"text-align: right;\">\n",
       "      <th></th>\n",
       "      <th>loss</th>\n",
       "      <th>accuracy</th>\n",
       "      <th>val_loss</th>\n",
       "      <th>val_accuracy</th>\n",
       "    </tr>\n",
       "  </thead>\n",
       "  <tbody>\n",
       "    <tr>\n",
       "      <th>0</th>\n",
       "      <td>0.717731</td>\n",
       "      <td>0.707590</td>\n",
       "      <td>0.645088</td>\n",
       "      <td>0.740516</td>\n",
       "    </tr>\n",
       "    <tr>\n",
       "      <th>1</th>\n",
       "      <td>0.532372</td>\n",
       "      <td>0.792884</td>\n",
       "      <td>0.586355</td>\n",
       "      <td>0.775038</td>\n",
       "    </tr>\n",
       "    <tr>\n",
       "      <th>2</th>\n",
       "      <td>0.458388</td>\n",
       "      <td>0.825522</td>\n",
       "      <td>0.580356</td>\n",
       "      <td>0.785281</td>\n",
       "    </tr>\n",
       "    <tr>\n",
       "      <th>3</th>\n",
       "      <td>0.417097</td>\n",
       "      <td>0.841651</td>\n",
       "      <td>0.578684</td>\n",
       "      <td>0.788695</td>\n",
       "    </tr>\n",
       "    <tr>\n",
       "      <th>4</th>\n",
       "      <td>0.385967</td>\n",
       "      <td>0.856831</td>\n",
       "      <td>0.575112</td>\n",
       "      <td>0.781108</td>\n",
       "    </tr>\n",
       "  </tbody>\n",
       "</table>\n",
       "</div>"
      ],
      "text/plain": [
       "       loss  accuracy  val_loss  val_accuracy\n",
       "0  0.717731  0.707590  0.645088      0.740516\n",
       "1  0.532372  0.792884  0.586355      0.775038\n",
       "2  0.458388  0.825522  0.580356      0.785281\n",
       "3  0.417097  0.841651  0.578684      0.788695\n",
       "4  0.385967  0.856831  0.575112      0.781108"
      ]
     },
     "execution_count": 65,
     "metadata": {},
     "output_type": "execute_result"
    }
   ],
   "source": [
    "graph = pd.DataFrame(H.history)\n",
    "graph.head()"
   ]
  },
  {
   "cell_type": "markdown",
   "id": "499b7f56",
   "metadata": {},
   "source": [
    "## Plot the accuracy and loss"
   ]
  },
  {
   "cell_type": "code",
   "execution_count": 66,
   "id": "a30e65be",
   "metadata": {},
   "outputs": [
    {
     "data": {
      "text/plain": [
       "Text(0, 0.5, 'Accuracy')"
      ]
     },
     "execution_count": 66,
     "metadata": {},
     "output_type": "execute_result"
    },
    {
     "data": {
      "image/png": "iVBORw0KGgoAAAANSUhEUgAAAYsAAAEaCAYAAADg2nttAAAAOXRFWHRTb2Z0d2FyZQBNYXRwbG90bGliIHZlcnNpb24zLjMuNCwgaHR0cHM6Ly9tYXRwbG90bGliLm9yZy8QVMy6AAAACXBIWXMAAAsTAAALEwEAmpwYAABEkUlEQVR4nO3deXxU1f3/8dedTPYh24QkkET2VTYhyr7ERKSKNFVEBVQMtogoai0VWqrtT2mpSmuxUFxicPvWXSouiBEUBJUlBJA1QVYTCJkQQvbM3PP7Y2BgTCCTkJnJ8nk+Hj5g5p478841zGfuOeeeqymlFEIIIcQlGLwdQAghRNMnxUIIIUSdpFgIIYSokxQLIYQQdZJiIYQQok5SLIQQQtRJioVoMb766is0TePYsWP12k/TNN544w03pRKiZZBiITxO07RL/texY8cGve6wYcPIy8ujffv29dovLy+PiRMnNug9G+rZZ5/Fx8eH3/72tx59XyEaSpOL8oSnHT9+3PH3TZs28ctf/pJNmzYRHx8PgI+PD23btnW0qaqqws/Pz+M53alHjx5MmjSJ//znP/z000/4+/t7NU91dTVGoxFN07yaQzRdcmYhPC4mJsbxX0REBABt27Z1PBcVFcXixYuZPHkyoaGhTJkyBYA//vGP9OrVi6CgIOLj47nvvvs4ffq043V/3g117vEXX3zBqFGjCAoKonfv3nz++edOeX7eDaVpGkuXLuXOO++kTZs2xMfH8/TTTzvtY7FYuPXWWwkODiY6Opo//elP3H333SQnJ9f5869du5aioiKeeOIJoqOjef/992u0ycjIYOTIkQQFBREaGsro0aM5cOCAY/vbb7/NoEGDCAgIwGw284tf/IJTp04BMGbMGO69916n13vqqaecztimTZtGcnIyzz//PB07dsTf35/S0lK++OILxowZQ0REhON9N23a5PRaJSUlPPzww8THx+Pv70/Hjh3561//CsDo0aP5zW9+49ReKUWXLl3485//XOexEU2XFAvRJP3lL39h6NChZGZmsmDBAgACAwN58cUX2b17N8uXL+err75i9uzZdb7W7373O/7whz+wfft2EhISuO222ygqKqrz/UeNGkVWVhZz5szhscceY+3atY7t99xzD9u3b+fjjz9mzZo1HDt2jBUrVrj0s73wwgtMmTIFo9HI3XffzYsvvui0PSMjg+uvv55Bgwbx7bff8v3333PXXXdRXV0NQHp6OlOnTiUlJYXMzEzWrl3LuHHjsNlsLr3/OZs2bWLNmjWsWLGC7du3ExAQQElJCbNmzeK7775j48aNdOvWjXHjxmGxWAD7B//48eP56KOPeP7559mzZw+vvfaa40zwvvvu47///S8lJSWO91mzZg2HDh0iNTW1XvlEE6OE8KL169crQB08eNDxHKBSU1Pr3PeDDz5Qfn5+ymazKaWUWrt2rQLU0aNHnR6///77jn3y8vIUoFatWuX0fq+//rrT4wcffNDpvXr06KHmzp2rlFJq//79ClAZGRmO7VVVVSouLk4lJSVdMnN+fr7y8/NTWVlZSimlcnNzldFoVHv37nW0GTFihLrxxhsv+hrx8fFq1qxZF90+evRoNX36dKfnnnzySdWhQwfH47vvvluFhoaqM2fOXDKvzWZTYWFh6o033lBKKZWRkaEAtXnz5lrbV1ZWqsjISPXSSy85nrv99tvVDTfccMn3EU2fnFmIJumaa66p8dwHH3zAqFGjaN++PSaTiSlTplBVVeU0BlKbAQMGOP4eExODj48PJ06ccHkfgNjYWMc+u3fvBmDIkCGO7b6+viQkJFzyNcF+VtCrVy/69+8PQLt27bjuuut46aWXHG22bt3K2LFja90/Pz+fo0ePXnR7ffTq1QuTyeT03MGDB7nzzjvp2rUrISEhhISEcPr0aQ4fPuzIFh4eftGf1c/Pj2nTpjl+HovFwocffsivf/3ry84rvEuKhWiSgoODnR5///333HrrrYwaNYoPP/yQzMxMli1bBtgHwC+ltsFxXdfrtY+maTX2qe9gsFKKl19+mR07dmA0Gh3/rVq1ildffdXp56jrtS+13WAwoH42b+VcF9aFfn6MAcaPH8+RI0dYsmQJ3333HVlZWURFRdUr24wZM9i8eTM7duzg9ddfJyIigvHjx19yH9H0SbEQzcI333xDZGQkTz31FIMHD6Z79+71vp6isfTu3RuAb7/91vGc1Wpl69atl9xvzZo1/Pjjj2zYsIGsrCyn/6qrq/nggw8AGDRoUI1B+HOioqKIi4u76PZzbXJzc52ey8zMrPPnslgs7N69m7lz53L99dfTu3dvAgICyM/Pd7QZNGgQhYWFbNmy5aKv07VrV6699lpeeuklXn75Ze655x6MRmOd7y+aNvk/KJqFHj16cPLkSdLS0khMTOSbb75h6dKlXsnSrVs3brrpJmbNmsULL7xA27ZtWbRoEcXFxZf81v3CCy8wevRohg4dWmPbhAkTePHFF7n99tv505/+xC9+8QsefvhhUlNT8ff359tvv2Xo0KH06NGDJ554gpkzZxIdHc3EiRPRdZ21a9dy++23ExkZSXJyMjNnzuSdd95h4MCBvPfee6xfv56wsLBL/lzh4eG0bduWl156iS5dumCxWPj9739PYGCgo821117LyJEjue222/jHP/5Bv379yM3NZc+ePU4zsGbMmMHUqVOprq5m5cqV9T/IosmRMwvRLIwfP54//vGP/OEPf6Bv37689dZbPPPMM17Lk56eTp8+ffjFL37BmDFjiI2N5brrriMgIKDW9vn5+axYsYJJkybVuv22227jq6++Ijs7m7Fjx/Lpp5/y/fffM3jwYK655hpeffVVfH19Abj33ntZvnw57733HgMGDGDUqFF89tlnjm/vd999N7NmzeKBBx4gISGBo0ePujRrzGAw8O6773LgwAH69evHtGnTePjhh2nXrp2jjaZpfPLJJ9xwww3cd9999OjRg6lTp1JQUOD0WikpKYSGhnLdddfRqVMnl46paNrkojwhGoHNZqNnz55MmDCBRYsWeTuO1xUWFhIbG8sbb7zBLbfc4u04ohFIN5QQDbBu3Try8/O56qqrOHPmDP/85z85dOgQ06ZN83Y0r6qurubEiRM8+eSTtG/fnpSUFG9HEo1EioUQDWCz2XjqqafIycnB19eXPn36sHbtWvr27evtaF61YcMGEhMT6dSpE6+99ho+Pj7ejiQaiXRDCSGEqJMMcAshhKiTFAshhBB1atFjFj+/MMlVkZGRNaYCNgWSq34kV/1IrvppibkudS8YObMQQghRJ4+dWWRlZZGeno6u6yQlJdWYUldWVsbixYuxWCzYbDZuuukmEhMTASgtLWXZsmUcPXoUTdOYOXMm3bt391R0IYRo9TxSLHRdJy0tjfnz52M2m5k3bx4JCQnExcU52qxatYq4uDjmzp1LcXExDz30ECNHjsRoNJKens6AAQN49NFHsVqtVFZWeiK2EEKIszzSDZWTk0NMTAzR0dEYjUaGDRvG5s2bndpomkZFRQVKKSoqKjCZTBgMBsrKytizZw/XXnstAEajsdbVMoUQQriPR84sCgsLMZvNjsdms5ns7GynNuPGjePpp59mxowZlJeX88gjj2AwGMjPzyckJISlS5dy+PBhOnfuzLRp02pdgycjI4OMjAwAFi5cSGRkZIPyGo3GBu/rTpKrfiRX/Uiu+mltuTxSLGq77u/nq3Nu376dDh068PjjjzuWC+jZsyc2m42DBw+SmppKt27dSE9PZ8WKFdx+++01XjM5OdnpHsgNnRHQEmc5uJPkqh/JVT+Sq36a9Wwos9nsuIcv2NfNDw8Pd2qzdu1aBg8ejKZpxMTEONbkN5vNmM1munXrBtjvTnbw4EFPxBZCCHGWR4pFly5dyMvLIz8/H6vVysaNG2vcljEyMpKdO3cCUFRURG5uLlFRUYSFhWE2mx3XTOzcudNpYFwIIQSookL079ZS+sHrbnl9j3RD+fj4kJqayoIFC9B1ncTEROLj41m9ejUAY8eO5ZZbbmHp0qU8+uijAEyZMoWQkBAAUlNTWbx4MVarlaioKO6//35PxBZCiCZLlZXC/h9Qe3egdmdB3lEAysxtYcRYNEPjLuLYohcSlCu4PUNy1Y/kqh/JZaeqq+HHfag9Wai9O+DgftB18PODblei9eqP1qs/kQOuxlJY2KD3uNSYRYte7kMIIZorpetw7CBqzw7UnizI3g1VlaAZoFM3tF9MROvVHzr3RDt7F0UAzeCe0QUpFkII0USok8fthWHPDvvZQ0mxfUO7eLQR19mLQ/c+aEGev9ZMioUQQniJOnPaXhT2bEft2Q4FJ+wbwsxofROgV3+0Xv3QwsyXfiEPkGIhhBAeoiorYP8u1N7tqN3b4djZywACg6FHX7SxKWg9+0NMbI1r0bxNioUQQriJslrhUDZqz3bU3u1wYB/YrGA0QpdeaClT0XoPgCu6oDXxW9BKsRBCiEailILco/YZS3u2w/4foKIcNM1eEJInoPXuD116o/n7eztuvUixEEKIy6AKT9oLw57t9vGH06fsG6LaoQ0ejdZrAPTog2YK8WrOyyXFQggh6kGVlsC+HRQf3Idt2yY48ZN9Q5tQ+2yls9c7aOYo7wZtZFIshBDiElRVJeTsOT8ofeQAKEVFQKD9YrjR4+xFIrZDkxuUbkxSLIQQ4gJKt8HhH89fKZ29G6zV4OMDnXqgjb/dfqV0wlAsp097O67HSLEQQrRqSik4kWufsbQnC/bthLJS+8a4jmhjbrAPSnfrjRYQ5NjvwqumWwMpFkKIVkcVFdqnsu7ZYR+cPnV2jaeItmgDh0HPfvaL4ULCL/1CrYgUCyFEi6fKy+wrtJ67Ujr3iH1DcBvo2Ret1yS0Xv2gbbsWPe5wOaRYCCFaHMcKrXvPFodzK7T6+tm7k4Ym2qe0xndy28J7LY0UCyFEs2dfofXQ+Sul9+86v0Jrx65o426xz1jq0hPN18/bcZslKRZCiGbJvkLrBRfDnVuhNSYObXiyfVC6ex+0IJN3g7YQUiyEEM3CxVdojUDrM+j8xXDh3l+htSXyWLHIysoiPT0dXddJSkoiJSXFaXtZWRmLFy/GYrFgs9m46aabSExMdGzXdZ25c+cSERHB3LlzPRVbCOElqroK9u/izMF92DK/haPnVmgNsq/QmvxL+9lDTJwMSnuAR4qFruukpaUxf/58zGYz8+bNIyEhgbi4OEebVatWERcXx9y5cykuLuahhx5i5MiRGI32iJ9++imxsbGUl5d7IrIQwsPs1zv8hPohE7VrG+zfCVVVlBl97WMNKVPt4w4dujb5FVpbIo8Ui5ycHGJiYoiOjgZg2LBhbN682alYaJpGRUUFSikqKiowmUwYzs5SsFgsZGZmcvPNN/Pxxx97IrIQwgNURRns3WEvED9kgiXfviE6Fm3k9WhXDiRy2GgsZ0q8G1R4plgUFhZiNp/vRzSbzWRnZzu1GTduHE8//TQzZsygvLycRx55xFEsli9fztSpU+WsQohmTilln7X0QyZqVybk7AabDfwDoVc/tHE3o105EK1tjGMfzT8ApFh4nUeKhVKqxnM/72Pcvn07HTp04PHHH+fEiRM8+eST9OzZkz179hAaGkrnzp3ZtWvXJd8nIyODjIwMABYuXEhkZGSD8hqNxgbv606Sq34kV/24K5defJqq7Zuo3PY9VVnfo5+y2N+vYzf8JtyB/8Ah+Pboe9HlM1rb8bpc7srlkWJhNpuxWCyOxxaLhfBw58vo165dS0pKCpqmERMTQ1RUFLm5uezbt48tW7awbds2qqqqKC8vZ/HixcyePbvG+yQnJ5OcnOx4XFBQ0KC8kZGRDd7XnSRX/Uiu+mmsXEq3wcFs1K6zXUuHskEpCDKhXXmV/czhygGoMDOVQCXAJRbka+nHq7FdTq727dtfdJtHikWXLl3Iy8sjPz+fiIgINm7cWOPDPjIykp07d9KrVy+KiorIzc0lKiqKyZMnM3nyZAB27drFypUray0UQgjvUUUW+6D0D5mo3VlQVmK/O1yn7vZVWvsMtF8cZ5CB6ebKI8XCx8eH1NRUFixYgK7rJCYmEh8fz+rVqwEYO3Yst9xyC0uXLuXRRx8FYMqUKYSENO87SwnRUilrtf0eD+fGHo4dsm8IDUcbMBj6DLRf89DM7w4nztNUbQMKLURubm6D9muJp5fuJLnqp7nmUiePny8Oe3dAZQX4GKFrL7Q+A+1nD7EdG/2ah+Z6vLylWXdDCSGaH1VZCft3np/Wmn/2y1dktH0hvisH2ldsveAeD6LlkmIhhADssxZV7pHzZw/7d9nvEOfnBz36oV073n72ECXLeLdGUiyEaMVUWYn9BkC7MinYnYV+7qK4dvFoiTfYi0O3K2WlViHFQojWROk6HP3xfNfSj3vt93kIDMJvwDVUdb3VPrXV3NbbUUUTI8VCiBZOFRehdl8wrfXM2WsaOnRFGzfRfvbQqTthMTFNcsBWNA1SLIRoYZTNZr9L3Lmxh8M59g1tQtF6D7BPa+19FVpImDdjimZGioUQLYAqPInatc3etbRnO5SXgsEAnc+u1tpnIMR3lluIigaTYiFEM6SqqyB71/mxh7yj9g3hkWgJw+3TWnv1k7vEiUYjxUKIZkApBfl557uW9u2AqiowGu23Dh1xnb1AtI+Xaa3CLaRYCNFE2e/1sNO+IN+ubXDyuH1DVHu0EWPtXUvd+9iX8BbCzaRYCNFEKKXgp0Pnu5Zy9oDNCv4B0LMf2tiUGvd6EMJTpFgI4UWq9Axq93bYtRX1wzY4XWjfENcRLXmC/eyhay80Y+33ehDCU6RYCOFBSrdRvX8X+jdr7GMPB7NB6Y57PXD2Xg9amLnuFxPCg6RYCOEBSinI+h79vXQK8/Ps93ro2A1t/CT7wHSnbnKvB9GkSbEQws3UkR/R30mDfTuhXTwhDz9BSYducq8H0axIsRDCTdTpU6gVb6A2ZECwCW3KfWgjrycwOppSWVZDNDNSLIRoZKq6CvXF/1CfvgfWarTrfol24yS5QE40a1IshGgkSinUlm9Q778KlnwYMATDxGlo0Re/+5gQzYXHikVWVhbp6enouk5SUhIpKSlO28vKyli8eDEWiwWbzcZNN91EYmIiBQUFLFmyhKKiIjRNIzk5mRtuuMFTsYVwiTqYjf7Oy/ZrI+I6YXj0KbSe/bwdS4hG45Fioes6aWlpzJ8/H7PZzLx580hISCAuLs7RZtWqVcTFxTF37lyKi4t56KGHGDlyJD4+Ptx555107tyZ8vJy5s6dS79+/Zz2FcJbVGEB6sPXUd+thZAwtLseQBueJDObRIvjkWKRk5NDTEwM0dHRAAwbNozNmzc7feBrmkZFRQVKKSoqKjCZTBgMBsLDwwkPDwcgMDCQ2NhYCgsLpVgIr1KVFajPP0R9/j7oCu0XE9FumCj3oxYtlkeKRWFhIWbz+YuMzGYz2dnZTm3GjRvH008/zYwZMygvL+eRRx7B8LPllPPz8zl48CBdu3at9X0yMjLIyMgAYOHChURGRjYor9FobPC+7iS56scduZSuU7FuNSVv/AdlOYn/8CTa3HU/PlHtvJqrMUiu+mltuTxSLJRSNZ77+cqY27dvp0OHDjz++OOcOHGCJ598kp49exIUZP+mVlFRwaJFi5g2bZrjuZ9LTk4mOTnZ8bihd/2KjIxskncMk1z109i5VM4e9LdfhkPZ0KErhumPYu3Wm1MA9Xif1nK8Govkqp/LydW+/cUnY3ikWJjNZiwWi+OxxWJxdC2ds3btWlJSUtA0jZiYGKKiosjNzaVr165YrVYWLVrEyJEjGTx4sCciC+GgLPmo919FbV4PYRFo9zyMNmSM3EhItCoeKRZdunQhLy+P/Px8IiIi2LhxI7Nnz3ZqExkZyc6dO+nVqxdFRUXk5uYSFRWFUoply5YRGxvL+PHjPRFXCMC+RLj67H3U6hVg0NBuuh3t+ptlSXDRKnmkWPj4+JCamsqCBQvQdZ3ExETi4+NZvXo1AGPHjuWWW25h6dKlPProowBMmTKFkJAQ9u7dy7p167jiiiuYM2cOAHfccQcDBw70RHTRCindhtq4BrXiDTh9yn4W8as70SLaejuaEF6jqdoGFFqI3NzcBu3XEvsi3akl5VL7dtrHJY4ehC49Mdx2L1qn7l7P5QmSq35aYi6vj1kI0dSp/Dz099Jh23cQ0RbtN3PQEkbILUqFOEuKhWjVVFkp6pN3UF+uBKMRLWWqfS0nP39vRxOiSZFiIVolZbOh1q9G/e9NKD2DNizJXijCIrwdTYgmSYqFaHXUrm32+0vkHoHufTBMmo7WoYu3YwnRpEmxEK2GyjuG/u4rsHMLtI3BMHMuXDVUxiWEcIEUC9HiqdIzqJVvob76FPz80Sbeg3bteDRfX29HE6LZkGIhWixltaJ/uRL10X+hvAxt1Fi0CZPRQsK8HU2IZkeKhWhxlFKwYwuWD19F/XQEevW3j0vEdfR2NCGaLSkWokVRPx22D17vzsKn/RUYHvgT9EuQcQkhLpMUC9EiqDOnUf97E7VuNQQGod12L+aJd2EpKvJ2NCFaBCkWollT1dWoNStRn7wDlRVo195oX/AvuA2aUX69hWgs8q9JNEtKKdj2nX2JjpPHoW8ChltT0drJHRSFcAcpFqLZUUcOoL+dBvt/gPZXYHj4L2hXXuXtWEK0aFIsRLOhigpRK15HbVwDwW3QptyHNvJ6NB8fb0cTosWTYiGaPFVVifrif6jP3gOrFe26FLQbb0ULMnk7mhCthhQL0WQppVCb16PefxUKT8JVQzBMnIYWdfE194UQ7iHFQjRJ6uB++02IDuyF+E4Y7nkIrWc/b8cSotXyWLHIysoiPT0dXddJSkoiJSXFaXtZWRmLFy/GYrFgs9m46aabSExMdGlf0XKowgLUh6+hvvsKQsLQ7noAbXgSmkHGJYTwJo8UC13XSUtLY/78+ZjNZubNm0dCQgJxceenOa5atYq4uDjmzp1LcXExDz30ECNHjsRgMNS5r2j+VGUFatUHqNUfgK7QfjER7YaJaAFB3o4mhMDFYnH48GE6dOjQ4DfJyckhJiaG6OhoAIYNG8bmzZudPvA1TaOiogKlFBUVFZhMJgwGg0v7iuZL6Trq+69RH7wKRYVoV49Eu/kutMhob0cTQlzApWLx//7f/yMiIoKRI0cycuRIwsPD6/UmhYWFmM1mx2Oz2Ux2drZTm3HjxvH0008zY8YMysvLeeSRRzAYDC7tK5onlbMb/a2X4XAOdOyGYcbv0br29nYsIUQtXCoWL774IpmZmaxfv553332XHj16MGrUKAYPHoy/f933KlZK1Xju5wu7bd++nQ4dOvD4449z4sQJnnzySXr27OnSvudkZGSQkZEBwMKFC4mMjHTlx6vBaDQ2eF93aim5bPl5nHltKZUbvsRgbovpoT8RMOp6NIPBq7k8RXLVj+SqH3flcqlY+Pj4cPXVV3P11VdTVlbGt99+y0cffcTLL7/MNddcQ3JyMj179rzo/mazGYvF4nhssVhqnJ2sXbuWlJQUNE0jJiaGqKgocnNzXdr3nOTkZJKTkx2PCwoKXPnxaoiMjGzwvu7U3HOpijLUp++hvvgfGDS0m26H62+m1D+A0sJCr+XyNMlVP5Krfi4nV/v2F5+WXq+vchUVFWzatImNGzdisVgYNmwYMTExPP/887z88ssX3a9Lly7k5eWRn5+P1Wpl48aNJCQkOLWJjIxk586dABQVFZGbm0tUVJRL+4qmTek29PWr0f94H+qz99AShmN4chmGCZPR/AO8HU8I4QKXziwyMzNZt24d27Zto2fPnlx77bU89thj+Pn5AfbxhpkzZ3LvvffWur+Pjw+pqaksWLAAXddJTEwkPj6e1atXAzB27FhuueUWli5dyqOPPgrAlClTCAkJAah1X9E8qL077Os4HTsIXXpieGA+Wqfu3o4lhKgnl4rFm2++yejRo7n77rtr7QIymUxMmzbtkq8xcOBABg4c6PTc2LFjHX+PiIhg/vz5Lu8rmjaVn4v+7nLI+g7MUWi/mYOWMEJuQiREM+VSsVi0aFGdbZKSki47jGj+VFkJ6pN3UF9+DEZftJSpaNf9Es2v7okQQoimy6Uxi2effZY9e/Y4Pbdnzx6XiohoHZTNhr72U/u4xBf/QxsyBsNT/8Fw4yQpFEK0AC4Vi927d9OjRw+n57p3786uXbvcEko0L5XbvkP/y2zU/y2z319i/j8wTJuNFhbh7WhCiEbiUjeUr68vFRUVBAWdX3qhoqICH7mPQKumlEKl/YOi77+GtjEYZs6Dq4bIuIQQLZBLZxb9+/fnxRdfpKysDLAv+peWlsaAAQPcmU00cWr956jvvybo5jsx/GUJ2sChUiiEaKFcOrO46667eP7550lNTcVkMlFSUsKAAQN48MEH3Z1PNFGq4ATqnXTo1R/TlBlUuuGiOiFE0+FSsTCZTMybN49Tp05hsViIjIwkLCzMzdFEU6V0HX35YtDAcPeDjb5MhxCi6anXEuXh4eGEhYWhlELXdQAM8kHR6qivP4N9O+33mjBHeTuOEMIDXCoWhYWFpKWlsWfPHkpLS522vf32224JJpomlZ+Lem859BmINuI6b8cRLYxSinKrTmmVTlm1TlmVDbP1DAFWK238fWRMzItcXnXW39+fxx9/nCeeeIK//OUvvPvuu1x11VXuzieaEKXr6OmLwceI4c4H5B+ucKKUotKmKK2y2T/oq3VKq2yOD/7SahtlVRf+qVNWbTvfrlqnvFpHr7HQ9BEAAowGYky+RJt8z/7p5/h7lMkXPx/p5XAnl4rF/v37Wbp0KQEBAWiaRseOHZk5cybz5893WuVVtGzqy5WQsxvtnofQIpre0szi8lRadYrKrZSe/fC+8AO+rFqnxFEE7AWg9Ow3f3s7+99tNe8o4MSgQZCvgSBfH4L9DAT5Gmgb7EuHMH+Czz4f5GfA5Odztp2BwOA2ZOdZOF5SzYkzVeSeqWJbXilVP3szc6DRXjza+BIdfL6QRLfxIzxAzkoul0vFwmAwOK6pCA4Opri4mMDAQAplBkyroY4fQ334OvS/Bm3otd6OI37GqivKzn47t3+Ttzk+wO1/nv3gv+BbfNkF7UqrdKw1v9I70YBAX4P9Q93Ph2BfAxGBRuJC7X8PvuADPvjs9iA/A8FnC0CQr4FAo6HeH9qRkWZ6hTpn05WiqMLGiTNV9iJSWs2JkiqOn6lme14ZlvJip/Z+PhpRweeLx/kzFHtRCTDKWUldXCoWXbt2Zdu2bVxzzTX079+ff/7zn/j5+dGlSxd35xNNgNJt6On/Al8/DFPvl29ojcymK6dv7E4f6Bd02ZT+7Fv8hX/+/Ft2bQKMBscHeJCvD6EBPrRr4+v4lh8Z2gbNWmH/sD/7AX9hEQj0NWBoIv/vDZpGRKCRiEAjvWqZY1Fl08kvrebEmWp7MSk5W1RKqvkhv5wKq+7UPjTAx9G1da6QnCsmEYFGfAxN4+f2JpeKxYMPPui4Y920adNYuXIl5eXl3HjjjW4NJ5oGtXoF/LgP7d5HZQmPetKVIr+kmkNFlRwuquRQUSXF1T9xuqzSUQR+/sFVGz8f7fy39bPf7NsG+57tyvFxKgLB577N+xoc24N8DXV+4DXVm/k0hJ+PgbgQf+JCaq5LppTiTKWN4yXnC8mJs4Vk78lyvjlc7DRuYjRAVLAvUSY/pzGTnnoAflYbJr/WsZJFncVC13XS09OZMWMGAH5+ftxyyy1uDyaaBpV7BPW/N2HgULRrRnk7TpNWUmlzFAT7nxUcLqpyFAMNiGnjS2xYEG1C/B199j8vAhd+mz/X5WOUb7aNRtM0QgKMhAQY6R4ZWGO7VVecLK12FJDjZ4vJ8ZJqDljKOVN1rrjnAmDyMzidkZzr2oo2+dI22LfF/L+rs1gYDAZ27NghXQ+tkLLZ0F95DgKCMEyZKb8DZ1l1xU/FVRw6VeEoDoeKKrGUWR1t2vgZ6BDmT1KXUDqG+dMhzJ8rQv0J9DW0qG/wLZHRoNGujR/t2vjVur2kykZ+STWlWgDZeRZHUTl4qoLvj53hwhNFgwaRQednbF3Y1RVj8m1W04Fd6oa68cYbeeedd5g0aRJGY72u4xPNmFr1PhzOwTDj92ghYd6O43FKKQrLrefPFk7Z/zxWXOn4QDAaIC7Enz5RQXQM86djuL0wRAQam82HgKgfk58PpggfIiMj6fuze8HZdPvvzPELurbOdXVt+amEogqbU/tAo+GC8RHnMZOmNh3YpU/+VatWUVRUxCeffOK41ek5//nPf9wSTHiXOnYQtfIttKtHoiWM8HYct6uw6hy5YFzhXFfSmcrz/7jNQUY6hvkzsH2w42whNsQfXx8pCsLOx6DRNtje/dQ3uub28mr7wPuFXVv5Jc1jOrDLA9yXKysri/T0dHRdJykpiZSUFKftH330EevXrwfs4yTHjh0jLS0Nk8nExx9/zJo1a9A0jfj4eO6//37H/b9F41PWanv3U7AJbfIMb8dpVLpSnDg34Hzq3LhCJXlnqjn3zzTAqHFFqD9D4010DAugw9nC0Ma/dQxkCvcJ9DU4fp9+TinFqbPTgU+UXjCLq57TgXsRSEiNV798LhWL3r17X9ab6LpOWloa8+fPx2w2M2/ePBISEoiLi3O0mTBhAhMmTABgy5YtfPLJJ5hMJgoLC/nss88c03X/8Y9/sHHjRsaMGXNZmcTFqU/fhaMHMcz6A5rJHb92nlFcUc0PJ8o4VFTBoVP2M4UjpyupsNrLgga0a+NHh7AARnc6P7YQbfJtMlNEReuhXTgduJbttU0HPlFaczpwWOAJXr25a6Pnc6lYXGr9p9tuu63O/XNycoiJiSE62n5eNmzYMDZv3uxULC60YcMGhg8f7nis6zpVVVX4+PhQVVVFeHh4rfuJy6cOH0B9+i7akES0AUO8Hccl1TbFT8Xnu44OF1Vy6FQllvILBpz9fegY5s91XcIc4wpXhPrjLxdjiWbC1enAPoEmwFbzBS6TS8XCYrE4PS4qKmL37t1cc801Lr1JYWEhZrPZ8dhsNpOdnV1r28rKSrKyspg+fToAERER3HTTTcycORM/Pz/69+9P//79a903IyODjIwMABYuXEhkZMOWpDAajQ3e153cnUtVV1H42vMQGo551mMYXDyr8NTxUkpxsqSKA5ZSDhSUkVNQyo8FpRw6VY7t7MR4Xx+NjhFBXN0hnG5RbegUEUiXyGDMQb5NZsC5tf5+NZTkck1boDP2XFarta7m9eZSsbj//vtrPJeVlcU333zj0pucu6DvQhf7h7t161Z69OiByWQCoKSkhM2bN7NkyRKCgoL4xz/+wbp16xg1quac/+TkZKe1qho6PbGpTm10dy79g9dQR37EMPtxCiuqoMK193JHrvJqnSOnz50lnJ+iWlJ1fl5i2yAjHcL8uapXBB3C/OkY5k/7ED/HvHZHrvJiLOWNGu+ytNbfr4aSXPVzObnat29/0W0Nngfbr18//vnPf7rU1mw2O52dWCyWi3YlbdiwgREjzs++2blzJ1FRUY5ZWIMHD2b//v21FgvRcOrgftSqD9CGJ6P1TfDY+9r0cwPOFecvZjtVyfGSakebAKN9UHD4FSGOLqQOYf6t5spZIZoCl4rFiRMnnB5XVlbyzTffuHwK1qVLF/Ly8sjPzyciIoKNGzcye/bsGu3KysrYvXu30+yryMhIsrOzqaysxM/Pj507d8qaVI1MVVfZZz+FR6BNmu629ymusDote3FufOHcdEGDBu3b+NElIoCkzqF0CLefLbQNlgFnIbzNpWLx8w92Pz8/OnXqxKxZs1x6Ex8fH1JTU1mwYAG6rpOYmEh8fDyrV68GYOzYsQBs2rSJ/v37ExAQ4Ni3W7duDBkyhMceewwfHx86duwoy6I3MrXiTTh+DMMjf0ELCr7s16u26RwrrnLMQDp33cKpCwacQ/196BDuz7huYWdnIQUQH+onA85CNFGaqm1AoYXIzc1t0H4tsS/yYlTOHvSn56KNvB7DnTXHpupSXGHleLUfO46cdFy38FNxleO+Br4GjfhQPzqG+zuuWegY5k9YoPtXAmhN/x8bg+Sqn5aY67LHLA4dOoTJZHLqdiooKKCkpISOHTs2KJTwPlVZaV96PKIt2q3T6rVvtU3xv72FvLOzgMqzlSHq7E1sBse1sReFcH/at/GT5Z2FaAFcKhbPP/88v//9752es1qt/Pvf/+bZZ591SzDhfurD1yA/F8OjT6EFBLm8X1ZeKS9uOcFPxVUMjjNx15BOhGsVBMuAsxAtlkvFoqCgwHFB3TkxMTGcPHnSLaGE+6l9P6C+XImWeCNaz34u7VNQVs0rW/PZcOQMMSZfHh8Tx6BYE5GRoRQUVNf9AkKIZsulYhEREcGPP/5I586dHc/9+OOPciV1M6UqytGX/wvaxqDdcned7attipV7C3n7hwJ0BVP6RZLSO6JJrYgphHAvl5cof+aZZ5gwYQLR0dGcOHGClStXcvPNN7s7n3AD9f6rYMnHMOdvaP4Bl2y7/XgpL24+wbGzXU7TB0URbZJFHIVobVwqFsnJyQQHB7NmzRosFgtms5m77rqLIUOax9pB4jy1Zzvqq0/RrvslWreLLxD58y6nP42JIyHW5MGkQoimxOX5i0OHDmXo0KHuzCLcTJWXoS9fDDGxaClTa21TbVOs3FfI2zvtXU6T+0XyK+lyEqLVc+kT4JVXXmHfvn1Oz+3bt4/ly5e7I5NwE/XuK3DKgmHaQ2h+NVeu3HG8lIc/Pcir207SLyaYf4/vxG19I6VQCCFcKxYbNmyoscRG586dXV5IUHif+mErav1qtOt/hdalp9M2S1k1z3zzE3/68ihWXTF/dBx/HB0nYxNCCAeXuqE0TUPXdafndF2vdTVZ0fSoshL0V/8N7eLRJtzheN6q22c5vbXTgq4Ud/SL5GbpchJC1MKlYtGzZ0/eeustpk6disFgQNd13nnnHXr27Fn3zsLr1FsvQ/Ep+53vfO1nCzuO2y+sO3q6iqtjTdw7KIqYNnImIYSonUvF4p577mHhwoXMmDHDse5IeHg4jz32mLvzicuktm9CfbsG7cZJaB27YSmrZnnmSdYdLiba5MsfR8dyTVwbb8cUQjRxLhULs9nM3//+d3JycrBYLISGhrJ582b+8Ic/8MILL7g7o2ggVVKM/voSiOuI7YZJfLTHwn93WLDpitv7mrm5t1lWeRVCuMTlqbMlJSXk5OTw1VdfcfjwYXr16sW0adPcGE1cLvXfl6CkmF13/YkXVx/j6OkqEtoHc29CNO2ky0kIUQ+XLBZWq5UtW7bw1VdfsX37dmJiYhg+fDgFBQU88sgjhIaGeiqnqCeVuRFL1jZeu3YO63ZaiQqWLichRMNdslj8+te/xmAwMHr0aCZNmuRYG+rcTYtE01R9uoiPV2/l7SG/x2rz57a+EdwiXU5CiMtwyWLRoUMH9u7dS05ODu3atSMqKgqTSZZ8aMp+OFHGss/3czT+OgZFGPj1iI7S5SSEuGyXLBZ//vOfOXnyJF9//TUrV64kPT2dfv36UVlZic1mq9cbZWVlkZ6ejq7rJCUlkZKS4rT9o48+Yv369YD9Go5jx46RlpaGyWSitLSUZcuWcfToUTRNY+bMmXTv3r1+P2kLV1huZXlmPl8fKqZttZV5oYcZPG4smty7WgjRCOoc4G7bti0TJ05k4sSJ7N27l6+//hpN05gzZw6JiYlMnVr7GkMX0nWdtLQ05s+fj9lsZt68eSQkJBAXF+doM2HCBCZMmADAli1b+OSTTxxnMenp6QwYMIBHH30Uq9VKZWVlQ3/eFsemKz7Zf4r/215Ata5z60/ruNl2gMBpf5VCIYRoNPW6EXLPnj3p2bMn99xzD5s2bWLdunUu7ZeTk0NMTIzjBkrDhg1j8+bNTsXiQhs2bGD48OEAlJWVsWfPHmbNmmUPbDRiNLr//s3Nwa4TZbyw+QSHT1cysF0w0/e9T7uD6zE8/i80H7lrnRCi8TToU9fPz48RI0YwYsQIl9oXFhZiNpsdj81mM9nZ2bW2raysJCsri+nTpwOQn59PSEgIS5cu5fDhw3Tu3Jlp06YREFDzPgwZGRlkZGQAsHDhQqd7hteH0Whs8L7udC6XpbSKJd8c5PO9J4lp48/fxvci4chmzvx3DaZpDxDcd4BXcjU1kqt+JFf9tLZcHvmKXtsaUhfrItm6dSs9evRwdEHZbDYOHjxIamoq3bp1Iz09nRUrVnD77bfX2Dc5OZnk5GTH44KCggblPXeVelMTFmHm9Y3Z/N+OAqpsikl9zEy80oxfSQFnXl4EXXtRNjSJcg9nb6rHS3LVj+Sqn5aYq3379hfd5pFiYTabsVgsjscWi+Wit2TdsGGD0xmL2WzGbDbTrVs3AIYMGcKKFSvcmrcp2p1fxsurjnDAUsZV7YL5TUI07UP8UEqhv7YErNX2pccN0v0khGh8Hpl436VLF/Ly8sjPz8dqtbJx40YSEhJqtCsrK2P37t1O28LCwjCbzeTm5gKwc+fOi451tERF5Vae25jLvC+OUFJlY+6oWJ5IjKN9iH06rNr4Jezcgnbz3WjRF/9WIIQQl8MjZxY+Pj6kpqayYMECdF0nMTGR+Ph4x8V9Y8eOBWDTpk3079+/xnhEamoqixcvxmq1EhUVxf333++J2F5l0xWfZZ/ize32LqdbrzRz3+julJw+5WijCk+i3n4ZuvdBS7zRi2mFEC2dx6YVDRw4kIEDBzo9d65InDNmzBjGjBlTY9+OHTuycOFCd8ZrUvbkl7Fs8wkOFVUy4GyXU2yIHwG+PpScbaOUQn/1edB1DNNmoxnk6mwhhPvIHNQmpKjcyqtZ+az5sZjIICNzR8YyJN5U62QAtf5z2J2FNmUmWtsYL6QVQrQmUiyaAJuuWJVdxJvbT1Jp05l4pZlb+5gJuMhaTqrgBOqddOjVH230OA+nFUK0RlIsvGzPSfuFdQdPVTIgJohfXx1NXIj/RdsrXUdfvhg0MNw9W67SFkJ4hBQLLymqsPLqtpOs+fE05iAjj41sz9D4NnV++KuvPoV9O9HuegDN3NZDaYUQrZ0UCw9zdDntOEmlVeeW3hFM6ht50S6nC1nzjqHefxX6DEIbcZ0H0gohhJ0UCw/ae7KcFzYf58dTlfSPCeI3CdHEhV68y+lCSrdR/PwC8DFiuOsB6X4SQniUFAsPOF1h5bWsk2QcOI050MjvR7Rn2BV1dzldSH35MdV7tqPd8zBauLnuHYQQohFJsXAjm674PKeIN7afpKJa5+beEUzqE0mgb/2uiVDHj6E+fB3/q0dQPTTRTWmFEOLipFi4yb4Ce5fTgcJK+kUH8Zuro4l3scvpQkq3oaf/C/z8aTPzMU7Zai7KKIQQ7ibFopFd2OUUEWhkzoj2DK9nl9OF1OoV8OM+tHsfxSfcDE1wlUshRMsnxaKR2HTF6rNdTuXVOr/qFcGkvmaCfBu+Cqz66Qjqf2/CwGFo14xqxLRCCFE/UiwawYVdTn3Pdjld0YAupwspqxU9/TkICMIw5T6Z/SSE8CopFpeh+GyX0xdnu5x+N7w9Izo0vMvpQurzD+BwDob75qKFhF1+WCGEuAxSLBrApiu+OFDE61n2LqeUXhHcdpldThdSRw+iVr6FdvVItEHDGuU1hRDickixqKf9BeW8sPkEOYUV9IkOYkZCNFeEXV6X04WUtdre/RRsQps8o9FeVwghLocUCxcVV1h5fftJvsg5TVigkUeHt2dkI3U5XUh98i4cPYhh1h/QTCGN+tpCCNFQUizqYNMVGQdO83pWPqXVOr9s5C6nC6nDB1CfvoM2JBFtwJBGf30hhGgoKRaXkG2xdzllWyroExXIb66OoUMjdjldSFVXo7/yTwgJQ7v91255DyGEaCiPFYusrCzS09PRdZ2kpCRSUlKctn/00UesX78eAF3XOXbsGGlpaZhMJsdzc+fOJSIigrlz57o16+nyapZ+f5zVOUWEBfjw22HtGNUxxK3TV9XK/0LuEQyzn0ALNrntfYQQoiE8Uix0XSctLY358+djNpuZN28eCQkJxMXFOdpMmDCBCRMmALBlyxY++eQTR6EA+PTTT4mNjaW8vNx9OdXZLqftOZRUWpnQM5zb+0W6pcvpQurgftSqD9BGXIfWd5Bb30sIIRqifivaNVBOTg4xMTFER0djNBoZNmwYmzdvvmj7DRs2MHz4cMdji8VCZmYmSUlJbs1ZXq3zxvaTdDYH8dwNnUgdFO3+QlFVif7KcxAegXZrqlvfSwghGsojZxaFhYWYzeeX1TabzWRnZ9fatrKykqysLKZPn+54bvny5UydOrXOs4qMjAwyMjIAWLhwIZGRkfXKGQmk3RFKXHgwNputXvs21Jnl/6bs+DHCnngO/ys6XLKt0Wis98/kCZKrfiRX/Uiu+nFXLo8UC6VqrpR6sf7/rVu30qNHD0cX1NatWwkNDaVz587s2rXrku+TnJxMcnKy43FBAxbd8wVstoAG7VtfKmc3+kf/RRs9jjNxnTlTx3tGRkZ6JFd9Sa76kVz1I7nq53JytW/f/qLbPFIszGYzFovF8dhisRAeHl5r2w0bNjBixAjH43379rFlyxa2bdtGVVUV5eXlLF68mNmzZ7s9tzupykr70uMRbdEmTvN2HCGEuCSPFIsuXbqQl5dHfn4+ERERbNy4sdYP+7KyMnbv3s2DDz7oeG7y5MlMnjwZgF27drFy5cpmXygA1IevQX4eht8tQAsI8nYcIYS4JI8UCx8fH1JTU1mwYAG6rpOYmEh8fDyrV68GYOzYsQBs2rSJ/v37ExAQ4IlYXqP2/YD6ciXatePRevT1dhwhhKiTx66zGDhwIAMHDnR67lyROGfMmDGMGTPmoq9x5ZVXcuWVV7ojnseoinL05f+CqHZoN9/l7ThCCOESj0ydFeep95eDJR/DtIfQ/Fv2GZQQouWQYuFBancW6qvP0JInoHXr7e04QgjhMikWHqLKy9BffR5iYtFSpno7jhBC1IsUCw9R774CpywY7nkYzc89ixEKIYS7SLHwAPXDVtT61WjjfoXWuYe34wghRL1JsXAzVVaC/uq/of0VaDdN9nYcIYRoECkWbqbeehmKT2FIfRjN19fbcYQQokGkWLiRyvoe9e0atBtuRevQ1dtxhBCiwaRYuIkqKUZ/YynEdUK7cZK34wghxGWRYuEm6r8vQUmxvfvJKN1PQojmTYqFG6jMjahNX6ONvw0tvpO34wghxGWTYtHI1JnT6G/8Bzp0RRs30dtxhBCiUUixaERKKfQ3/wPlpRjueQjN6LF1GoUQwq2kWDQiteUb2LoRbcJktNhL3yJVCCGaEykWjUSdPoV6cxl06o429lfejiOEEI1KikUjUErZp8lWVdrXfvLx8XYkIYRoVFIsGoH6/ivI+h4tZSpauzhvxxFCiEbnsRHYrKws0tPT0XWdpKQkUlJSnLZ/9NFHrF+/HgBd1zl27BhpaWlUVFSwZMkSioqK0DSN5ORkbrjhBk/FrpM6ZUH990Xo2gst+SZvxxFCCLfwSLHQdZ20tDTmz5+P2Wxm3rx5JCQkEBd3/lv4hAkTmDBhAgBbtmzhk08+wWQyUV1dzZ133knnzp0pLy9n7ty59OvXz2lfb1FKob++BKzV9jvfGaT7SQjRMnmkGyonJ4eYmBiio6MxGo0MGzaMzZs3X7T9hg0bGD58OADh4eF07twZgMDAQGJjYyksLPRE7DqpDRmwcwvazdPQott7O44QQriNR84sCgsLMZvNjsdms5ns7Oxa21ZWVpKVlcX06dNrbMvPz+fgwYN07Vr7onwZGRlkZGQAsHDhQiIjIxuU12g01rmv7eRxLO++gm+fgYTfeheawf1115Vc3iC56kdy1Y/kqh935fJIsVBK1XhO07Ra227dupUePXpgMpmcnq+oqGDRokVMmzaNoKCgWvdNTk4mOTnZ8bigoKBBeSMjIy+5r1IK/bn/BzYbtsn3YfHQmU5dubxFctWP5KofyVU/l5OrffuL95B4pBvKbDZjsVgcjy0WC+Hh4bW23bBhAyNGjHB6zmq1smjRIkaOHMngwYPdmtUVat3nsDsLbeI9aG1jvB1HCCHcziPFokuXLuTl5ZGfn4/VamXjxo0kJCTUaFdWVsbu3budtimlWLZsGbGxsYwfP94TcS9JnTxuv592r/5oo8d5O44QQniER7qhfHx8SE1NZcGCBei6TmJiIvHx8axevRqAsWPHArBp0yb69+9PQECAY999+/axbt06rrjiCubMmQPAHXfcwcCBAz0R3YnSdfRXnwdNw3D37It2pQkhREvjsessBg4cWOMD/lyROGfMmDGMGTPG6bmePXvyzjvvuDueS9RXn8K+nWh3PYBmbuvtOEII4TFyBbeLVH4u6v1Xoc8gtBHXeTuOEEJ4lBQLFyjdhp6+GIxGDHc9IN1PQohWR4qFC9SXH0PObrTbf4MWbq57ByGEaGGkWNRBHT+G+vB16H8N2pAx3o4jhBBeIcXiEpRuQ3/lOfDzx3DnLOl+EkK0WlIsLkF9vgIO7kebPAMttPaLCIUQojWQYnER6qcjqI/ehIHD0K4e6e04QgjhVVIsaqGsVvT05yAwGMPUmdL9JIRo9aRY1KL0w9fhcA6GKTPR2oR6O44QQnidFIufUUcPUvpOOto1o9AGDfN2HCGEaBI8ttxHc6Cs1eivPIfBFAJ3/MbbcYQQosmQYnEhqxUtvhNtxlxPiSnE22mEEKLJkGJxAS0gEC31YQIiIylpgjc1EUIIb5ExCyGEEHWSYiGEEKJOUiyEEELUSYqFEEKIOkmxEEIIUScpFkIIIeokxUIIIUSdpFgIIYSok6aUUt4OIYQQommTM4tazJ0719sRaiW56kdy1Y/kqp/WlkuKhRBCiDpJsRBCCFEnKRa1SE5O9naEWkmu+pFc9SO56qe15ZIBbiGEEHWSMwshhBB1kmIhhBCiTq325kdZWVmkp6ej6zpJSUmkpKQ4bVdKkZ6ezrZt2/D39+f++++nc+fOXs+1a9cunn76aaKiogAYPHgwEydOdHuupUuXkpmZSWhoKIsWLaqx3VvHq65c3jpeBQUFLFmyhKKiIjRNIzk5mRtuuMGpjTeOmSu5vHHMqqqqeOKJJ7BardhsNoYMGcKkSZOc2njjeLmSy1u/YwC6rjN37lwiIiJqTJlt9OOlWiGbzaYeeOABdfz4cVVdXa1+97vfqaNHjzq12bp1q1qwYIHSdV3t27dPzZs3r0nk+uGHH9Tf/vY3t2f5uV27dqkDBw6o3/72t7Vu98bxciWXt45XYWGhOnDggFJKqbKyMjV79uwm8TvmSi5vHDNd11V5eblSSqnq6mo1b948tW/fPqc23jheruTy1u+YUkqtXLlSPffcc7W+f2Mfr1bZDZWTk0NMTAzR0dEYjUaGDRvG5s2bndps2bKFUaNGoWka3bt3p7S0lFOnTnk9l7f07t0bk8l00e3eOF6u5PKW8PBwx7e4wMBAYmNjKSwsdGrjjWPmSi5v0DSNgIAAAGw2GzabDU3TnNp443i5kstbLBYLmZmZJCUl1bq9sY9Xq+yGKiwsxGw2Ox6bzWays7NrtImMjHRqU1hYSHh4uFdzAezfv585c+YQHh7OnXfeSXx8vNsyucobx8tV3j5e+fn5HDx4kK5duzo97+1jdrFc4J1jpus6jz32GMePH+f666+nW7duTtu9dbzqygXeOV7Lly9n6tSplJeX17q9sY9XqywWqpbZwj//tuBKm8bmynt26tSJpUuXEhAQQGZmJs888wyLFy92ay5XeON4ucLbx6uiooJFixYxbdo0goKCnLZ585hdKpe3jpnBYOCZZ56htLSUZ599liNHjnDFFVc4tnvreNWVyxvHa+vWrYSGhtK5c2d27dpVa5vGPl6tshvKbDZjsVgcjy0WS41qazabKSgouGQbb+QKCgpynBYPHDgQm81GcXGxW3O5whvHyxXePF5Wq5VFixYxcuRIBg8eXGO7t45ZXbm8/TsWHBxM7969ycrKcnre279jF8vljeO1b98+tmzZwqxZs3juuef44YcfahSoxj5erbJYdOnShby8PPLz87FarWzcuJGEhASnNgkJCaxbtw6lFPv37ycoKMjtv5iu5CoqKnJ8Y8jJyUHXddq0aePWXK7wxvFyhbeOl1KKZcuWERsby/jx42tt441j5koubxyz4uJiSktLAfsMpJ07dxIbG+vUxhvHy5Vc3jhekydPZtmyZSxZsoSHH36YPn36MHv2bKc2jX28WmU3lI+PD6mpqSxYsABd10lMTCQ+Pp7Vq1cDMHbsWK666ioyMzOZPXs2fn5+3H///U0i13fffcfq1avx8fHBz8+Phx9+2COn4s899xy7d+/mzJkz3HfffUyaNAmr1erI5Y3j5Uoubx2vffv2sW7dOq644grmzJkDwB133OH4puetY+ZKLm8cs1OnTrFkyRJ0XUcpxdChQxk0aJDX/026kstbv2O1cefxkuU+hBBC1KlVdkMJIYSoHykWQggh6iTFQgghRJ2kWAghhKiTFAshhBB1kmIhRBM1adIkjh8/7u0YQgCt9DoLIepr1qxZFBUVYTCc/341ZswYpk+f7sVUQniOFAshXPTYY4/Rr18/b8cQwiukWAhxmb766iu+/PJLOnXqxNdff014eDjTp0+nb9++gH31z5deeom9e/diMpn45S9/SXJyMmBf0XTFihWsXbuW06dP065dO+bMmeNYLXTHjh389a9/5cyZMwwfPpzp06c3iQUaResjxUKIRpCdnc3gwYNJS0tj06ZNPPvssyxZsgSTycS//vUv4uPjeeGFF8jNzeXJJ58kOjqavn378vHHH7NhwwbmzZtHu3btOHz4MP7+/o7XzczM5G9/+xvl5eU89thjJCQkMGDAAO/9oKLVkmIhhIueeeYZfHx8HI+nTp3qOEMIDQ3lxhtvRNM0hg0bxsqVK8nMzKR3797s3buXuXPn4ufnR8eOHUlKSmLdunX07duXL7/8kqlTp9K+fXsAOnbs6PSeKSkpBAcHExwczJVXXsmhQ4ekWAivkGIhhIvmzJlz0TGLiIgIp+6htm3bUlhYyKlTpzCZTAQGBjq2RUZGcuDAAcC+bHR0dPRF3zMsLMzxd39/fyoqKi7zpxCiYWTqrBCNoLCw0OlmMwUFBURERBAeHk5JSYnT3czObQP7PQdOnDjh8bxC1JcUCyEawenTp/nss8+wWq18++23/PTTT1x11VVERkbSo0cP/u///o+qqioOHz7M2rVrGTlyJABJSUm8/fbb5OXloZTi8OHDnDlzxss/jRA1STeUEC76+9//7nSdRb9+/Rz3hOjWrRt5eXlMnz6dsLAwfvvb3zpugPPQQw/x0ksvMWPGDEwmE7feequjO2v8+PFUV1fz1FNPcebMGWJjY/nd737n+R9OiDrI/SyEuEznps4++eST3o4ihNtIN5QQQog6SbEQQghRJ+mGEkIIUSc5sxBCCFEnKRZCCCHqJMVCCCFEnaRYCCGEqJMUCyGEEHX6/9uLVB3/KjYrAAAAAElFTkSuQmCC\n",
      "text/plain": [
       "<Figure size 432x288 with 1 Axes>"
      ]
     },
     "metadata": {},
     "output_type": "display_data"
    }
   ],
   "source": [
    "plt.style.use(\"ggplot\")\n",
    "plt.figure()\n",
    "plt.plot(graph[\"accuracy\"], label=\"train_accuracy\")\n",
    "plt.plot(graph[\"val_accuracy\"], label=\"val_accuracy\")\n",
    "\n",
    "plt.title(\"Training Accuracy\")\n",
    "plt.xlabel(\"Epoch \")\n",
    "plt.ylabel(\"Accuracy\")"
   ]
  },
  {
   "cell_type": "code",
   "execution_count": 67,
   "id": "31ff3a2c",
   "metadata": {},
   "outputs": [
    {
     "data": {
      "text/plain": [
       "Text(0, 0.5, 'Loss')"
      ]
     },
     "execution_count": 67,
     "metadata": {},
     "output_type": "execute_result"
    },
    {
     "data": {
      "image/png": "iVBORw0KGgoAAAANSUhEUgAAAYsAAAEaCAYAAADg2nttAAAAOXRFWHRTb2Z0d2FyZQBNYXRwbG90bGliIHZlcnNpb24zLjMuNCwgaHR0cHM6Ly9tYXRwbG90bGliLm9yZy8QVMy6AAAACXBIWXMAAAsTAAALEwEAmpwYAAA71klEQVR4nO3deVxVdf7H8df33Mu+KFwUZHEjN9RyQVEyRwO1bKPNmtTJ0Zr6ZdkyOWraWKPOWGaLk7YiNi3TNC025lSEWWbWaCKZmgtkpomhoGAKAvd8f39cRREULsI9CJ/n4+FDzj3f7zlvTuSH8z3nfI/SWmuEEEKIszCsDiCEEKLxk2IhhBCiRlIshBBC1EiKhRBCiBpJsRBCCFEjKRZCCCFqJMVCiFN89tlnKKXYs2ePW/2UUrz22msNlEoI6yl5zkKcj5RSZ13frl07fvzxR7e3W1paSkFBAa1bt8Ywav+71L59+2jZsiW+vr5u79NdSileffVVxowZ0+D7EuIEu9UBhKiL3Nzciq/Xrl3LNddcw9q1a4mJiQHAZrNVal9aWoq3t3eN2/X29iYiIsLtPHXpI8T5RIahxHkpIiKi4k9oaCgArVq1qvisdevWLFiwgFtuuYUWLVowevRoAKZPn063bt3w9/cnJiaGO++8k8LCwortnj4MdWL5k08+YfDgwfj7+xMXF8fHH39cKc/pw1BKKRYtWsTYsWMJCgoiJiaGxx9/vFKf/Px8brzxRgICAggPD+fhhx/m1ltvJTk5+ZyOzSuvvEJcXBw+Pj5ER0czY8YMysvLK9avXr2aiy++mKCgIIKCgrjooosqfT9//etf6dixIz4+PrRq1YoRI0ZQXFx8TpnE+U+KhWiyHn30UQYOHEhmZiZz5swBwM/PjxdffJEtW7awZMkSPvvsMyZNmlTjth588EEeeughvv32W+Lj47nppps4dOhQjfsfPHgwWVlZTJ48mSlTprBy5cqK9b///e/59ttv+eCDD/j000/Zs2cPS5cuPZdvmeXLlzN+/HjGjh3Ld999x/z581m4cCGPPvooAE6nk6uvvpqEhAQyMzPJzMzkkUcewd/fH4B3332XuXPn8swzz7Bjxw4++eQTLr/88nPKJJoILcR57osvvtCA3rlzZ8VngB4/fnyNfd99913t7e2tnU6n1lrrlStXakDv3r270vI777xT0Sc3N1cD+qOPPqq0v1dffbXS8j333FNpX126dNFTp07VWmu9fft2DeiMjIyK9aWlpTo6OlonJSWdNfPp+zrVoEGD9I033ljps6efflr7+vrqY8eO6YKCAg3olStXVtv/ySef1J06ddKlpaVnzSCaHzmzEE1W//79q3z27rvvMnjwYCIjIwkMDGT06NGUlpayb9++s26rV69eFV9HRERgs9n45Zdfat0HICoqqqLPli1bABgwYEDFei8vL+Lj48+6zZps3ryZwYMHV/rsN7/5DSUlJeTk5BASEsJtt93GiBEjuPzyy5k7dy7btm2raDtq1CjKyspo164d48aN49VXX+Xw4cPnlEk0DVIsRJMVEBBQafl///sfN954I4MHD+a9994jMzOT559/HnBdAD+b6i6Om6bpVh+lVJU+Nd3VVRenb1Mfv+HxxOcvvfQS69evZ9iwYXz++ef06NGDF154AXAVtK1bt7J48WJat27NrFmz6NKlC7t37673nOL8IsVCNBurV68mLCyM2bNnk5CQQOfOnd1+nqK+xMXFAfDVV19VfFZeXs769evPabvdu3fn888/r/TZqlWr8PPzo2PHjhWf9ejRgwceeIAPP/yQCRMm8OKLL1as8/Hx4bLLLuPxxx/nu+++4+jRo+d8LUWc/+TWWdFsdOnShf3795OamsrQoUNZvXo1ixYtsiRLp06duOqqq5g4cSIvvPACrVq1Yv78+RQVFdXqbOOnn34iKyur0meRkZFMmzaNq666irlz53LdddeRlZXFI488wh//+Ee8vb3Jzs7mpZde4qqrriImJoa9e/fyxRdf0KdPHwBSU1MxTZP+/fvTsmVLVqxYweHDhyuKm2i+5MxCNBtXXnkl06dP56GHHqJnz568+eabzJs3z7I8aWlp9OjRg8svv5whQ4YQFRXFsGHDavVg3/Tp0+ndu3elP4sXL2bkyJEsXryYV155hR49enD//fdz1113MXPmTMA1NLdjxw5uvvlmOnfuzPXXX09iYiLPPvssACEhIaSlpTFkyBC6devGk08+yYsvvkhSUlKDHgvR+MkT3EI0Ek6nk65du3L11Vczf/58q+MIUYkMQwlhkVWrVpGXl0fv3r05fPgwTz31FD/++CPjxo2zOpoQVUixEMIiTqeT2bNnk52djZeXFz169GDlypX07NnT6mhCVCHDUEIIIWokF7iFEELUSIqFEEKIGjXpaxZ79+6tU7+wsDAOHDhQz2nOneRyj+Ryj+RyT1PMFRkZecZ1cmYhhBCiRlIshBBC1EiKhRBCiBpJsRBCCFEjKRZCCCFqJMVCCCFEjaRYCCGEqJEUi1No04n54duUbd9idRQhhGhUpFicqqQE/dl/KVzwF/SxY1anEUKIRkOKxSmUfwDGuHtx/vwT+r1/WB1HCCEaDSkWp1HdLsLvihvRK5aht2RZHUcIIRoFKRbVCBp7F0REYy5ZgD76q9VxhBDCclIsqqF8fDDG3w+FBeh/vmh1HCGEsJwUizNQHTqhrhiF/voz9PovrY4jhBCWkmJxFmrkKGh3AeZri9CFB62OI4QQlpFicRbKbseY8AAcO4b5yt+RN9AKIZorj738KCsri7S0NEzTJCkpiZSUlErr//Of//DFF18AYJome/bsITU1lcDAwBr7NiTVJhp1/a3oN19Cr/4Edclwj+1bCCEaC48UC9M0SU1NZcaMGTgcDqZNm0Z8fDzR0dEVba6++mquvvpqAL755huWL19OYGBgrfo2NDX0CnTW/9D/SkV3vRDVKsJj+xZCiMbAI8NQ2dnZREREEB4ejt1uJzExkXXr1p2x/ZdffsnFF19cp74NQRkGxrh7wVCYi59Gm06P7l8IIazmkTOLgoICHA5HxbLD4WDHjh3Vtj127BhZWVlMmDDB7b4ZGRlkZGQAMHfuXMLCwuqU1263V+0bFkbxH/5I0TOz8P8yg4BrR9dp2+ei2lyNgORyj+Ryj+RyT0Pl8kixqO7CsFKq2rbr16+nS5cuBAYGut03OTmZ5OTkiuW6vrT8TC88193joc9Afn3jBY526IyK7lCn7ddVU3xBfEOSXO6RXO5pirkiIyPPuM4jw1AOh4P8/PyK5fz8fEJCQqpt++WXXzJo0KA69W1oSimMMXeBfyBm6lPosjJLcgghhKd5pFjExsaSm5tLXl4e5eXlrFmzhvj4+Crtjh49ypYtWyqtq21fT1FBLTB+dzfs+RG97J+W5RBCCE/yyDCUzWZj/PjxzJkzB9M0GTp0KDExMaSnpwMwfLjrdtS1a9dy0UUX4evrW2NfK6mL+qMGDUN/9C76wn6oC7pZmkcIIRqa0k34SbO9e/fWqV9txvx0yVHMRyaBYWD8+RmUr1+d9lXfuawgudwjudwjudxzXl+zaIqUrz/G+PvgwC/of6dZHUcIIRqUFItzoDr3QA1LQa/6CP3deqvjCCFEg5FicY5UymiIaueaO+rXIqvjCCFEg5BicY6Ul7fr3Re/FqFff14mGxRCNElSLOqBatsRddXN6G9Wo9eusjqOEELUOykW9URddj3EdkW/8Tz6YH7NHYQQ4jwixaKeKJvNdXdUebnr3d0yHCWEaEKkWNQj1ToSdeN42LIB/dmHVscRQoh6I8WinqnfXAbde6PfXoze97PVcYQQol5IsahnSimMcZPA7o25+Cm0U959IYQ4/0mxaACqpQM15v9g53b0R+9YHUcIIc6ZFIsGYvS7BNXvEvSyf6J35VgdRwghzokUiwakRt8JQS0wU59El5VaHUcIIepMikUDUgFBGLdOgtzd6KWvWR1HCCHqTIpFA1M9+qCGXI7+5H30tk1WxxFCiDqRYuEB6obfQ6sIzLSn0cVHrY4jhBBuk2LhAcrH1zXZYMEB9L9esjqOEEK4TYqFh6jYrqjLr0d/uQKd9bXVcYQQwi1SLDxIXXUzxHTA/MdCdNEhq+MIIUStSbHwIGX3wpjwABQfwXx1kUw2KIQ4b9g9taOsrCzS0tIwTZOkpCRSUlKqtNm8eTNLlizB6XQSFBTEo48+CsDEiRPx9fXFMAxsNhtz5871VOx6p6LaoVLGot9OQ3/1KSoxyepIQghRI48UC9M0SU1NZcaMGTgcDqZNm0Z8fDzR0dEVbY4cOcLLL7/M9OnTCQsLo7CwsNI2Zs6cSXBwsCfiNjg17Gr0xrXoN19Cd+mJcrS2OpIQQpyVR4ahsrOziYiIIDw8HLvdTmJiIuvWravUZvXq1SQkJBAWFgZAixYtPBHNEsqwYYy7F0yNmfYM2jStjiSEEGflkWJRUFCAw+GoWHY4HBQUFFRqk5uby6+//sojjzzClClT+PzzzyutnzNnDlOmTCEjI8MTkRucahWBuvk22PYd+tNlVscRQoiz8sgwVHUXcpVSlZadTic7d+7k4YcfprS0lBkzZtCpUyciIyOZNWsWoaGhFBYWMnv2bCIjI4mLi6uyzYyMjIpiMnfu3IqzFHfZ7fY693WHvuZmDm3ZQOm7r9Ly4kuxx3RoFLncJbncI7ncI7nc01C5PFIsHA4H+fkn30udn59PSEhIlTZBQUH4+vri6+tLt27d2LVrF5GRkYSGhgKuoal+/fqRnZ1dbbFITk4mOTm5YvnAgQNuZ930y1H6d4riaNFBt/vWhb75dvh+I/lP/Blj2jyU/cz/ScLCwur0PTU0yeUeyeUeyeWec8kVGRl5xnUeGYaKjY0lNzeXvLw8ysvLWbNmDfHx8ZXaxMfHs3XrVpxOJ8eOHSM7O5uoqChKSkooLi4GoKSkhI0bN9K2bdsGyXmk1MlfVu7musXreC1rP4eKyxtkP6dSwSEYYyfCTzno5W81+P6EEKIuPHJmYbPZGD9+PHPmzME0TYYOHUpMTAzp6ekADB8+nOjoaHr16sWDDz6IYRhceumltG3bll9++YUnnngCcA1VDRo0iF69ejVIzgBvG7OS27I8+1fe3pzP0u8LuLRjC67pFkpUsHeD7BNA9RmIGjgU/d+30BfGozp0brB9CSFEXSjdhJ8M27t3b536hYWF8e0Pe3n/+wI+/aGQclMzICaQa+McdAnzq+eULvroEcxH7wEvH4yHn0b5+FSbq6md9jYkyeUeyeWeppjL8mGo81FUsDd3JUTwckosN3R3sPGXo/zp411MS9/Fuj2/YtZzjVX+Aa7baX/5Gf3uK/W6bSGEOFdSLGrQ0s/OmF6teDkllgl9W7P/SBmzP9/DpOU7ycg5RJmz/p6RUN0uQiVdhf70A/SWDfW2XSGEOFdSLGrJ38vG1V1Def6aWO5PbINNKf7+9T7+8P4PvLslnyOlznrZj7rudxARjZm2AH3k13rZphBCnCspFm6yG4ohHVrw9Mj2zBwaTXSwN69s2M9tS3NYkplH/tGyc9q+8vbBmHA/FB1E//OFekothBDnxmMTCTY1Sin6RAbSJzKQ7PwS3vs+n/e3FrBsWwG/ad+ClLhQ2raoepG6Vttu3wl1xU3oZf9E90pAxQ+q5/RCCOEeKRb14AKHL5MHRbHvcCn/2VrAJzmFrPihkH5RAVwb5yCulV+VJ9ZrokbeiP7uG8zXn8O4IA7VMrSB0gshRM1kGKoeRQR584d+EaSmxPLbnmFsPVDCQ5/8xJT0XXz102GcZu3voFJ2u+tVrMeOYf7jWXn3hRDCUlIsGkCwr52bLwwjNSWWO/qFU1jiZO4XP3P3Bz/w8Y5DlNbyDirVJhp1/a3w3TfoL9IbOLUQQpyZFIsG5GM3GNk5hEVXdWTyoEj8vGwsWruP25bm8NamAxw+VvMdVGroFdDtIvRbqZTv+9kDqYUQoiopFh5gMxSD2gUz/7J2zEqKITbEl9e/PcBtS7N5ef0v7D9y5juolGFgjJsEho2iZ2ahzfq5RVcIIdwhF7g9SCnFhREBXBgRwI8HS3hvSwH/3XaQ5dsOckm7YK6NC6VDiG/VfqGtULf8gbLUp1DpS1GXXW9BeiFEcybFwiLtQ3y5/+JIxvRqxX+2FpCefYjPfyyid5sArosLpWe4f6U7qFTCELy3bODY+6+je/RBRZ/93RdCCFGfZBjKYq0CvJjQN5zUlAsYe1Erdh4s4eEVu/njRz/yxY9FFXdQKaUIvvNP4B+ImfoUuuzcHv4TQgh3SLFoJAJ9bNzQw8FLKbFMTIiguEzzxJd7+b9lP7B820FKyk2M4JYYv7sH9vyIXvaG1ZGFEM2IDEM1Mt42g+EXtCSpYwvW/vwr723J58VvfuGf3x3gxl7FDOnSm6BLhqM/eg99YT/UBVXfGCiEEPVNziwaKZuhGBgTxGPD2/G3YW3pGubH4v/t5ralObzYKYV9bS7AXPw0uqTY6qhCiGZAziwaOaUUca39iWvtz6+GP2lrcvhkZyEfd57AgLyNXPvvt+k8dqzVMYUQTZwUi/NI+1B/7hnQhlsuDOODbQf5iO6swU7PpZu4rn97ercJcHsOKiGEqA0ZhjoPOfy9uLV3a16+thO/2/8lPx8s5tGVe7j3vz+y8vhrYIUQoj5JsTiPBfj7cN11Q3lu7ePcU5yJqTVPf5XLHe/n8P73BRwtk6e9hRD1Q4rFeU617Yj3VaMY+r83eTpsNw8PiSY80IvFmXnctjSHV7P2c7C43OqYQojznMeuWWRlZZGWloZpmiQlJZGSklKlzebNm1myZAlOp5OgoCAeffTRWvdtztRl16E3rkP983n6zvw78cPase1AMe9tKeCdzfks/b6ASzsGc023UKKD6/ZCJiFE8+aRYmGaJqmpqcyYMQOHw8G0adOIj48nOjq6os2RI0d4+eWXmT59OmFhYRQWFta6b3OnDBvG+PswH70X85UFGPc+QpcwP6YOjmJvUSlLvy/g0x8K+SS7kP7RgVwX56BrKz+rYwshziMeGYbKzs4mIiKC8PBw7HY7iYmJrFu3rlKb1atXk5CQQFhYGAAtWrSodV8BqnUk6sbxsCUL/fmHFZ9HBntzV0IEL6fEcmMPB5vzjjIlfRfT0nexds9hTHmpkhCiFjxyZlFQUIDD4ahYdjgc7Nixo1Kb3NxcysvLeeSRRyguLmbkyJH85je/qVXfEzIyMsjIyABg7ty5FYXHXXa7vc59G1JNufT1Yzi0ZQOlby+hZeJQ7FFtK9aFAffGRHD7JU4+2LyPNzfsZc7nP9MuxI9b+kYxvEtrvO11+93hfD1eVpFc7pFc7mmoXB4pFtW9EvT05wGcTic7d+7k4YcfprS0lBkzZtCpU6da9T0hOTmZ5OTkiuUDBw7UKW9YWFid+zak2uTSt9wBj0wif/6fMaY8hrLZqrS5NMaHwVHt+XJXEe99X8DfMrJ5/ssfubpLCCM6tSTAu2qfc81lBcnlHsnlnqaYKzIy8ozrPDIM5XA4yM/Pr1jOz88nJCSkSpuLLroIX19fgoOD6datG7t27apVX3GSaulAjf4/2Lkd/eHbZ2xnNxS/6dCCpy5vzyOXxtC2hTevZO1nwns5pGXmceCozGorhDjJI8UiNjaW3Nxc8vLyKC8vZ82aNcTHx1dqEx8fz9atW3E6nRw7dozs7GyioqJq1VdUZvQbhOo/GP3Bm+hd2Wdtq5Sid5sA/pLUlicvb098VAD/2VrAHe/n8MxXe9l16JiHUgshGjOPDEPZbDbGjx/PnDlzME2ToUOHEhMTQ3p6OgDDhw8nOjqaXr168eCDD2IYBpdeeilt27rG3KvrK85O3XIHevsmzNSnMGY8ifKu+ZbZ2FBfHhwUxdhfS3l/60E+yT7Epz8UER8ZwHVxDuJa+8l0IkI0U0pXd1Ggidi7d2+d+jWVsUi9eQPm0zNRw67BGDXB7f0VlZTz3x2HWL7tIEXHnHRy+HJdXCgJ0UHYjJNFo6kcL0+RXO6RXO45r69ZCGuo7r1RQ0aiM/6D3vad2/2Dfe3c3DOMl1NiubNfOIePOXnsi71M/OAHPtx+kGPlZv2HFkI0SlIsmjh1wzho1cb17ovio3Xaho/d4PLOISy6qiN/GhRJgJeN59f9wu1Lc3jruwN8v+8wewqPceBoGb+WOmUiQyGaIJmivIlTPr6up7sfm4r+10uocffWeVs2Q3Fxu2AS2waxKe8o720p4PWNB3h9Y9VTXi9D4etl4GdX+NoN1x8vA78TX9sN/LwMfE9Z71o+/Wvl6uNl4GUouWYihEWkWDQDKrYr6vIb0P99C90rAdVrwLltTyl6hgfQMzyAPUXHOIIfvxQcoqTcdP0pMykuNykuMys+Ky7XlJSZFJWUHV92tTvmrP1ZiKE4WWyOFxM/u6pUZE4tSGEtS3EeK64oSH6V+rm+9rFJARKiNqRYNBPqqpvQm77B/MdCjI5dUcEt62W70cE+hIWFciC4btcvnKbmmNOk5HgxObWQVHxdblJSpk9+fVohKigup7hMnyxW5SaukbD9Ne5f4Rpm87OryoXktIJ05jOjE21VpXWn3gAgRFMgxaKZUHYvjPEPYM6+H/PVhRh3PdQofqO2GQp/w4a/F1BPcxtqrSl1avyDQ9ibt/94YdFnKUQnPj9ZkA6XOsk7UlapOLlxEoS37ZThtVOLiZdBoN8BykpLsRlgKIWhwHb8b0MpbMbJryutM6pre6ZtnPb5Wfraji8fMY5SdLi0Fvs+sY0zz6Ygmh4pFs2IimqLunYM+t9p6DWfoi5OsjpSg1BK4WNXhPh74Qz0rrftljn1KcNqZjVnQjUVJM3B4jLMw+WUlTsxtcZpgqk1pgbn8b9P/dydAnXudrrdo0phMU4rSG4WOcM4WbxOfBbgdwCzvBQvw8DLpvAyVMXf9uN/e9tc6+ynrPOyKbxPaeNlM463PfUzV/ETNZNi0cyo5GvQ365Dv/kiumtPlKO11ZHOG142hZfNRpCPe3Nnnc7d++Ariol5SjHRp39+WsExa1iuplAFBAZRWFR0yn5OtK+8/7Nto+Z9V18QTa0pMzXO40OIp37O4TJKSsspMzVlTl3xd33VUZs68d/WqFSIThQf70rLJwtWcMAhysuOVelTXVFzbb/quortnyh+jfgmDikWzYwyDIzf34v5yCTMtGcwHpiFMuQO6sbsxG/Z9ga+DuIqYo3vH6rqiqs+XkxOFg+zUiEpMzXlTk3piXXHPy8/ZX2p09Wm7LQ2Fds5pW1xuabomLPSZ059lNJyZ8VyfbEbqtozoIqzo9M/q1SMFOEhxVzRsf7fVyPFohlSYeGom29Dv/J39IplqGHXWB1JCLcopbAfL6CufxbP7WyvLk4tYlofL0Snnf1ULmDmGdeVn9Km9JRiV3l7J/sfKTWr7uv43y38jnJFxw71/v1KsWim1MXJ6Kz/od/9B7p7b1Rk25o7CSGqpdSJ3+4BL2uzNNQ0JDL+0EwppTB+NxH8/DFTn0KXy5TkQogzk2LRjKngEIwxd8FPOejlb1kdRwjRiEmxaOZUn4GogZei//tv9A/brI4jhGikal0sNm3aRF5eHgAHDx7k2WefZdGiRRw6dKihsgkPUTffDi0druGoY/KyIyFEVbUuFqmpqRjHb7H8xz/+gdPpRCnFCy+80GDhhGco/wCM398LeXvR7yyxOo4QohGqdbEoKCggLCwMp9PJt99+yx133MHtt9/O9u3bGzKf8BDV9UJU8tXolcvRWzZYHUcI0cjUulj4+flx6NAhtmzZQnR0NL6+vgCUl5c3WDjhWerasdAmBjNtAfrIr1bHEUI0IrUuFpdddhnTpk1jwYIFjBgxAoCtW7cSFRXVYOGEZylvH4wJ98PhQ+h/yvCiEOKkWj+Ul5KSQv/+/TEMg4iICABCQ0O58847Gyyc8DzV7gLUFTeh//OG690X8YOsjiSEaATcunU2MjKyolBs2rSJQ4cO0batPPnb1KiRN0KHzpivPYc+VGB1HCFEI1DrM4uZM2fy29/+lq5du7J06VKWL1+OYRiMGDGC6667rsb+WVlZpKWlYZomSUlJpKSkVFq/efNmHn/8cVq3ds2CmpCQwA033ADAxIkT8fX1xTAMbDYbc+fOdeNbFO5SNpvrVax/uQ/zlb9jTPpzo50JUwjhGbUuFrt376Zz584ArFixgpkzZ+Lr68vDDz9cY7EwTZPU1FRmzJiBw+Fg2rRpxMfHEx0dXaldt27dmDp1arXbmDlzJsHBwbWNK86RiohGXT/ONZX5Fx+jBl9mdSQhhIVqPQyltWsK3n379gEQHR1NWFgYR44cqbFvdnY2ERERhIeHY7fbSUxMZN26dXWMLDxFDR0J3S5Cv7UYnZdrdRwhhIVqfWbRpUsXFi9ezMGDB+nXrx/gKhxBQUE19i0oKMDhcFQsOxwOduzYUaXd9u3bmTx5MiEhIYwdO5aYmJiKdXPmzAFg2LBhJCcnV7ufjIwMMjIyAJg7dy5hYWG1/fYqsdvtde7bkKzI5XzgEfLvHYvt1YWEzF6IslWdClqOl3skl3skl3saKleti8XEiRNZtmwZwcHBXH311QDs3buXkSNH1tj3xFnJqU4fA+/QoQOLFi3C19eXzMxM5s2bx4IFCwCYNWsWoaGhFBYWMnv2bCIjI4mLi6uyzeTk5EqFpK7T9DbUFL/nyppcNvjt7ZSlPsX+N17GuPz6RpKrZpLLPZLLPU0xV2Rk5BnX1XoYKigoiFtuuYVRo0ZVPJDXp08frrjiihr7OhwO8vPzK5bz8/MJCQmp1Mbf37/Sdp1OJ0VFRYDrFl2AFi1a0K9fP7Kzs2sbW9QDlTAE+iai338dvdv99zQLIc5/tS4W5eXlvPXWW9x9992MHj2au+++m7feeqtWT3DHxsaSm5tLXl4e5eXlrFmzhvj4+EptDh06VHEGkp2djWmaBAUFUVJSQnFxMQAlJSVs3LhRbtf1MKUUxui7ICAQM/VJdJm8+0KI5qbWw1CvvfYaOTk53H777bRq1Yr9+/fzzjvvcPToUcaNG3fWvjabjfHjxzNnzhxM02To0KHExMSQnp4OwPDhw/n6669JT0/HZrPh7e3Nfffdh1KKwsJCnnjiCQCcTieDBg2iV69edf6GRd2ooGCMW+/B/Pss9H/eQF1/q9WRhBAepHR1FxSqceeddzJv3rxKF7SLioqYPHlyo515du/evXXq1xTHIuuL+Y9n0as/wZj8N1SnuEaTqzqSyz2Syz1NMVe9XLOoZU0RTZwaNR4crTEXP4UuOWp1HCGEh9S6WAwcOJDHHnuMrKws9uzZQ1ZWFvPmzWPgwIENmU80MsrXH2P8/ZCfh/53mtVxhBAeUutrFmPGjOGdd94hNTWVgwcPEhoaSmJiokxR3gypTnGo4deiP34XfVF/uPRyqyMJIRpYrYuF3W7npptu4qabbqr4rLS0lLFjxzJmzJgGCScaL3XNaPSm9Ziv/B0zXs4uhWjq3Jp19nQyuVzzpby8MCY8AEd+5eDDd6O3fWd1JCFEAzqnYiGaNxXTAeOuaZjFRzGfmI7z+bnoA79YHUsI0QBqHIbatGnTGdfJ9QqhLuyH4+JL2f/Pl9Efvo258RvUiGtRl12P8vG1Op4Qop7UWCyee+65s65vjBNpCc9SPj4YV96ETkxCv/MK+oN/oVdnoG4Yh+o/WIYrhWgCaiwWCxcu9EQO0QSo0DDU7X9ED70c858voV+ej165HOO3f0C1u8DqeEKIcyDXLES9UxfEYUyfj7r1HsjLxZzzR8xX/o4uOmh1NCFEHdX61lkh3KEMAzVoGLrvxa5hqRXL0N+sRl15MyrpSpTdy+qIQgg3yJmFaFDKzx/jxt9jPPJ36NwD/XYa5sx70BvXyRQyQpxHpFgIj1ARUdjueRjj3plgGJh/n4W54FF07h6rowkhakGKhfAo1aMvxswFqJsmQM42zEfvwfzXy+ijv1odTQhxFnLNQnicsttRydegE4agl77mup7x9Weoa8egBg1DGVXf8y2EsJacWQjLqKAWGGMnYsx4CtpEo19dhDn7AfT2Mz8IKoSwhhQLYTnVtqPrZUp/+BMcOYw57yHMFx5H5+dZHU0IcZwMQ4lGQSmF6jcIfWE/dPp76I/eRn+7FjXiuuNTh/hYHVGIZk3OLESjonx8MK66GeMvz6F6JaA/eBPzz/+HuXaV3GorhIWkWIhGSTlaYfxhMsbkv0FgMPqlJzAfn4belWN1NCGaJSkWolFTnbu7pg753d3wy8+Ycx7A/Mez6KJDVkcTolnx2DWLrKws0tLSME2TpKQkUlJSKq3fvHkzjz/+OK1btwYgISGBG264oVZ9RdOmDBvqkuGuqUOWnzZ1yKVXyNQhQniAR4qFaZqkpqYyY8YMHA4H06ZNIz4+nujo6ErtunXrxtSpU+vUVzR9yj8AdeN49CXDMd9ajP73YvSqjzFumoDqGW91PCGaNI8MQ2VnZxMREUF4eDh2u53ExETWrVvX4H1F06QiorFN+jPGpD8DYC74C84Ff0Hvk6lDhGgoHjmzKCgowOFwVCw7HA527NhRpd327duZPHkyISEhjB07lpiYmFr3BcjIyCAjIwOAuXPn1vnFTHa7vVG+1ElynWboZehBSRz979sceWsx5iP34H/FjQSMGo8RECjHy02Syz3NLZdHikV1tzye/va0Dh06sGjRInx9fcnMzGTevHksWLCgVn1PSE5OJjk5uWL5wIEDdcobFhZW574NSXKdwcXDXMNQS1/n6LJ/cXTlh6hrx9Lq6pvIP9j43qFh+fE6A8nlnqaYKzIy8ozrPDIM5XA4yM/Pr1jOz88nJCSkUht/f398fV3vbO7Tpw9Op5OioqJa9RVCBYdg/O5ujOlPQngU+h/PUvCn29A7tlgdTYgmwSPFIjY2ltzcXPLy8igvL2fNmjXEx1e+IHno0KGKs4js7GxM0yQoKKhWfYU4QbWLxfjT31C3P4hZeBDz8amYL85DF+y3OpoQ5zWPDEPZbDbGjx/PnDlzME2ToUOHEhMTQ3p6OgDDhw/n66+/Jj09HZvNhre3N/fddx9KqTP2FeJMlFKo/oNxJI1k/+svoj96F/3t/1CX3YAafq1MHSJEHSjdhOdQ2Lt3b536NcWxyIbU2HPp/Dz020vQ36yG0FaoG36Pir/4jNe+PJWrsZFc7mmKuSy/ZiGElZSjNcYdf8KY/FcICES/+DjmEw+hf/rB6mhCnDekWIhmQ3XugTHjSdTYu2DvbszZ92O+uhB9uNDqaEI0ejJFuWhWlGFDDb4MHT8IvexN9Mrl6HWrUVffjBpyBcou/0sIUR05sxDNkvIPxLjpNoyZC6BjZ/S/UjEfnYTetN7qaEI0SlIsRLOm2sRg3PsIxt0Pg+nEfOZR19Qhv9Tt5gghmiopFqLZU0qhLuqH8eizqBt+Dzs2Y868G/PtNHTxUavjCdEoSLEQ4jhl98IYcS3GnOdRA4ag05diTr8Dc/UnaNO0Op4QlpJiIcRpVHAIxrhJGA89Aa3boF/5O+ZfH0Rnf291NCEsI8VCiDNQ7TthTHkMddsfofAg5mNTMF+ajy5ofA9iCdHQ5D5BIc5CKYVK+A26VwL6o3fQH7+Hzvoadfn1rqlDvGXqENE8yJmFELWgfHwxrhmN8ZeF0LMv+v03MP88Eb3+y2qn0ReiqZFiIYQbVFg4tjunYjw4B/z8MZ9/DHP+DPTunVZHE6JBSbEQog5Ul54YM55Cjf4/+PlHzFn3Y762CH24yOpoQjQIuWYhRB0pmw015HJ0v0vQy/55fOqQL1BX/RY1ZKRMHSKaFDmzEOIcqYBAjJtvd00d0r4T+l8vY/7lXvTmDVZHE6LeSLEQop6oyLYY9z2KcfcMKC/DfHomzmdno/Nk6hBx/pNiIUQ9ck0d0h/j0YWo62+Frd9h/vluzLeXoEtk6hBx/pJiIUQDUF5eGJddf3zqkN+gP34Xc8b/YX65QqYOEeclKRZCNCDVIgRj3L0YD80HR2v0kmfIn3gT5juvoHfukGc0xHlDbtcQwgNUh04YUx9Hr/sC27pVOD9Ziv7oHdc7wfsMRPUeCBd0RRk2q6MKUS0pFkJ4iFIK1X8wISOvY/+unehv16Izv0J/9iE64z8Q3BLVewCqTyJ07iG33opGxWM/jVlZWaSlpWGaJklJSaSkpFTbLjs7m+nTp3P//fczYMAAACZOnIivry+GYWCz2Zg7d66nYgvRIFRAECoxCRKT0CVH0d+th/Vr0F9/hv78IwgIQl3U31U44nqhvLysjiyaOY8UC9M0SU1NZcaMGTgcDqZNm0Z8fDzR0dFV2r3++uv06tWryjZmzpxJcHCwJ+IK4VHK1x/V7xLodwm69Bhs3uA649jwNXrNCvD1Q/WMR/VNhB59UT6+VkcWzZBHikV2djYRERGEh4cDkJiYyLp166oUiw8//JCEhARycnI8EUuIRkd5+0DvAajeA9DlZbB148nCse4L8PaG7n1c1zku7I/yD7A6smgmPFIsCgoKcDgcFcsOh4MdO3ZUabN27VpmzpzJc889V2Ubc+bMAWDYsGEkJydXu5+MjAwyMjIAmDt3LmFhYXXKa7fb69y3IUku9zSJXBFtYMgItLOcsu83UvLVZxz7+jPMDV+j7Xa8L+yH78Ah+PQbhNEixHO5PEhyuaehcnmkWFR3e6BSqtLykiVLGD16NIZR9W7eWbNmERoaSmFhIbNnzyYyMpK4uLgq7ZKTkysVkgMH6vaSmrCwsDr3bUiSyz1NLldEW7j2d3DNGIyd29GZX1GauYbSzK9AGdC5O6pvousieUtHzdurr1wNTHK551xyRUZGnnGdR4qFw+EgPz+/Yjk/P5+QkMq/BeXk5PDMM88AUFRUxIYNGzAMg/79+xMaGgpAixYt6NevH9nZ2dUWCyGaA2UYENsVFdsVfcM42P2Da6gq8yv0Gy+g33jBtb7PQFSfRFRYuNWRRRPgkWIRGxtLbm4ueXl5hIaGsmbNGiZNmlSpzcKFCyt93bdvX/r3709JSQlaa/z8/CgpKWHjxo3ccMMNnogtRKOnlIK2sai2sZAyBp27G71+DTpzDfrfaeh/p7nWnygcbaJr3qgQ1fBIsbDZbIwfP545c+ZgmiZDhw4lJiaG9PR0AIYPH37GvoWFhTzxxBMAOJ1OBg0aVO3dUkIIUG1iUFfeBFfehN6/7/gZxxr00tfQS1+DNjGuoao+iRDdvspwsBBnonQTnm9g7966zfbZFMciG5Lkco8VuXTBAXTW1+jMr2D7ZtAmtIqoOOOgfSdatW4tx8sNTTGX5dcshBDWUqFhqEuvhEuvRBcdQmf9D73hK3TGMvTH70FIGEWJQ9Dd+kCnbjLtiKhCioUQzYwKbokaPAIGj0Af/RX97Tp05hqKP/kPLH8bglq47qjqPRC6XijTjghAioUQzZryD0QNHAoDhxIa4E/+5+mu6xz/W4Ve9TH4B5ycdqR7b5SXt9WRhUWkWAghADD8/FHxg1Dxg9BlpcenHVnjmvDwq5Xg44fq2Rf6JKJ69kX5+lkdWXiQFAshRBXKyxt6JaB6JaDLy2Hbd67CseFr+GY12svbdabRe6DrzCMg0OrIooFJsRBCnJWy212FoXtv9Og7Ifv7kw8BZv0PbbO5rm30SUT1SkAFt7Q6smgAUiyEELWmDJvrXRude6BHTYAfd5x8luPVhejXnoNOca7C0XsAKrTxzZ0k6kaKhRCiTpRhQMcuqI5d0NffCnt+dBWN9WvQb76IfvNF6NC54iFA1SrC6sjiHEixEEKcM6UUxHRAxXSAa0ajc/e4CkfmV+i3l6DfXuJaf2Lakci2VkcWbpJiIYSod6pNNOqKUXDFKNe0Ixu+dhWP999Av/8GRES7ikbfgRDTUaYdOQ9IsRBCNCjVKgI1PAWGp6AP5R8vHF+hP3wb/d+3ICz85LQjHTq7hrdEoyPFQgjhMaqlAzX0Chh6BfpwUcV8VXrFB+j0pdAy1HVhvE8idOqOssm0I42FFAshhCVUUDDqkuFwyXD00SPoja5pR/SXGeiV/4XAYFTvAZQMSkKHx8izHBaTYiGEsJzyD0ANGAIDhqCPlcCmTFfhWPcFhV+kg1IQ1R7VuTuqc3fXWYc8z+FRUiyEEI2K8vGFvomovonosjJaFOzj0Lov0ds3o1d/gv70A1fDiGhU5x6u18l26i7PdDQwKRZCiEZLeXnh3b03RngMALq8DHbluArHjs3odatg1UdocL2fo1P34w8NdnddOJe7rOqNFAshxHlD2b0q3j/O5dejTSfs/hG9YxN622b0t2thzQpX8QgJO148urvOQCKipHicAykWQojzljJs0C4W1S4Wkq9Bmybk7kZv3ww7NqO3bYS1n7uKR1CL40NWx888otrJbbpukGIhhGgylGG4ikBUOxg6Eq015OWit2+C7ZvR2ze5piMB8A9wXSg/XkBo21Fu1T0LKRZCiCZLKQXhkajwSLhkOAA6P8915rF9k+vax7drXcXDxw8u6Oq6WN6lB7TrhPLysjR/Y+KxYpGVlUVaWhqmaZKUlERKSkq17bKzs5k+fTr3338/AwYMcKuvEELURDlaowa2hoFDAVxPle/YcvLMY+lrruLh5e2aKPH43VZ07Iry8bE0u5U8UixM0yQ1NZUZM2bgcDiYNm0a8fHxREdHV2n3+uuv06tXL7f7CiFEXaiWDlS/S6DfJQDow0Wu6x07NrvOPD54C61NsNmh/QWo43dbmQmDLE7uWR4pFtnZ2URERBAeHg5AYmIi69atq/IP/ocffkhCQgI5OTlu9xVCiPqggoKhz0BUn4EA6KNHIOd7V+HYvgmd/h76w7fZbxiuSRBP3G3VKQ4VEGRx+objkWJRUFCAw+GoWHY4HOzYsaNKm7Vr1zJz5kyee+45t/oKIURDUf4B0DMe1TMewPWEec5W/Pbs5Mi3a9Er/4v+5P3jT5m3c13z6Hz8lt3gEIvT1x+PFAutdZXPTr/fecmSJYwePRrjtFvZatP3hIyMDDIyMgCYO3cuYWF1e6LTbrfXuW9DklzukVzukVxuiIrGbrcTWH47uvQYZdnfU7p5A2WbsyhdswK9cjkAtqi2eHfvjVdcL7y798IWFt7g0RrqeHmkWDgcDvLz8yuW8/PzCQmpXHFzcnJ45plnACgqKmLDhg0YhlGrvickJyeTnJxcsXzgwIE65Q0LC6tz34YkudwjudwjudxTKVfraNefoVdhlJfDTznoHZtxbttE8RcZFKe/f7xTuOtieZcerr9bRdT7g4LncrwiIyPPuM4jxSI2Npbc3Fzy8vIIDQ1lzZo1TJo0qVKbhQsXVvq6b9++9O/fH6fTWWNfIYRoLJTdXvG6WUZc53rKfM+PJ695fLcOvvrUdcdVS8fJiRG79HDNd9VInzL3SLGw2WyMHz+eOXPmYJomQ4cOJSYmhvT0dACGDx/udl8hhDgfKMMGbWNRbWMh+WrXU+b79px8UHDbJli76uRT5hUPCnaH6PaN5ilzpau7KNBE7N27t079zovT3kZEcrlHcrmnqefSWsP+3EoPCpKf51rpHwAXxFXcrkvb2BqfMj+vh6GEEEJUTykFrSNRrSNh0DAAdP5+9I4TU5Rsdr0YCsDHF2K7nbxdt73nnjKXYiGEEI2McrRCOYbCgONPmRcePD454vEpSk5/yvzE7boduzZYJikWQgjRyKkWIah+g6Cf66lx/WsRZG9xTcu+YzN6+VvoD1xPmRd06YG+d6brWkk9kmIhhBDnGRUYDL0GoHq55s9zPWW+Fb1jE/ayUsx6LhQgxUIIIc57rqfM+6J69iW4gW4IaBz3ZAkhhGjUpFgIIYSokRQLIYQQNZJiIYQQokZSLIQQQtRIioUQQogaSbEQQghRIykWQgghatSkZ50VQghRP+TMohpTp061OkK1JJd7JJd7JJd7mlsuKRZCCCFqJMVCCCFEjaRYVCM5OdnqCNWSXO6RXO6RXO5pbrnkArcQQogayZmFEEKIGkmxEEIIUaNm+/KjrKws0tLSME2TpKQkUlJSKq3XWpOWlsaGDRvw8fHhrrvuomPHjpbn2rx5M48//jitW7cGICEhgRtuuKHBcy1atIjMzExatGjB/Pnzq6y36njVlMuq43XgwAEWLlzIoUOHUEqRnJzMyJEjK7Wx4pjVJpcVx6y0tJSZM2dSXl6O0+lkwIABjBo1qlIbK45XbXJZ9TMGYJomU6dOJTQ0tMots/V+vHQz5HQ69d1336337duny8rK9IMPPqh3795dqc369ev1nDlztGmaetu2bXratGmNItemTZv03/72twbPcrrNmzfrnJwc/cADD1S73orjVZtcVh2vgoICnZOTo7XW+ujRo3rSpEmN4mesNrmsOGamaeri4mKttdZlZWV62rRpetu2bZXaWHG8apPLqp8xrbVetmyZfvrpp6vdf30fr2Y5DJWdnU1ERATh4eHY7XYSExNZt25dpTbffPMNgwcPRilF586dOXLkCAcPHrQ8l1Xi4uIIDAw843orjldtclklJCSk4rc4Pz8/oqKiKCgoqNTGimNWm1xWUErh6+sLgNPpxOl0opSq1MaK41WbXFbJz88nMzOTpKSkatfX9/FqlsNQBQUFOByOimWHw8GOHTuqtAkLC6vUpqCggJCQEEtzAWzfvp3JkycTEhLC2LFjiYmJabBMtWXF8aotq49XXl4eO3fu5IILLqj0udXH7Ey5wJpjZpomU6ZMYd++fYwYMYJOnTpVWm/V8aopF1hzvJYsWcKYMWMoLi6udn19H69mWSx0NXcLn/7bQm3a1Lfa7LNDhw4sWrQIX19fMjMzmTdvHgsWLGjQXLVhxfGqDauPV0lJCfPnz2fcuHH4+/tXWmflMTtbLquOmWEYzJs3jyNHjvDEE0/w008/0bZt24r1Vh2vmnJZcbzWr19PixYt6NixI5s3b662TX0fr2Y5DOVwOMjPz69Yzs/Pr1JtHQ4HBw4cOGsbK3L5+/tXnBb36dMHp9NJUVFRg+aqDSuOV21YebzKy8uZP38+l1xyCQkJCVXWW3XMaspl9c9YQEAAcXFxZGVlVfrc6p+xM+Wy4nht27aNb775hokTJ/L000+zadOmKgWqvo9XsywWsbGx5ObmkpeXR3l5OWvWrCE+Pr5Sm/j4eFatWoXWmu3bt+Pv79/gP5i1yXXo0KGK3xiys7MxTZOgoKAGzVUbVhyv2rDqeGmtef7554mKiuLKK6+sto0Vx6w2uaw4ZkVFRRw5cgRw3YH03XffERUVVamNFcerNrmsOF633HILzz//PAsXLuS+++6jR48eTJo0qVKb+j5ezXIYymazMX78eObMmYNpmgwdOpSYmBjS09MBGD58OL179yYzM5NJkybh7e3NXXfd1Shyff3116Snp2Oz2fD29ua+++7zyKn4008/zZYtWzh8+DB33nkno0aNory8vCKXFcerNrmsOl7btm1j1apVtG3blsmTJwPw29/+tuI3PauOWW1yWXHMDh48yMKFCzFNE601AwcOpG/fvpb/P1mbXFb9jFWnIY+XTPchhBCiRs1yGEoIIYR7pFgIIYSokRQLIYQQNZJiIYQQokZSLIQQQtRIioUQjdSoUaPYt2+f1TGEAJrpcxZCuGvixIkcOnQIwzj5+9WQIUOYMGGChamE8BwpFkLU0pQpU7jwwgutjiGEJaRYCHGOPvvsM1asWEGHDh34/PPPCQkJYcKECfTs2RNwzf750ksvsXXrVgIDA7nmmmtITk4GXDOaLl26lJUrV1JYWEibNm2YPHlyxWyhGzdu5K9//SuHDx/m4osvZsKECY1igkbR/EixEKIe7Nixg4SEBFJTU1m7di1PPPEECxcuJDAwkGeeeYaYmBheeOEF9u7dy6xZswgPD6dnz5588MEHfPnll0ybNo02bdqwa9cufHx8KrabmZnJ3/72N4qLi5kyZQrx8fH06tXLum9UNFtSLISopXnz5mGz2SqWx4wZU3GG0KJFC6644gqUUiQmJrJs2TIyMzOJi4tj69atTJ06FW9vb9q3b09SUhKrVq2iZ8+erFixgjFjxhAZGQlA+/btK+0zJSWFgIAAAgIC6N69Oz/++KMUC2EJKRZC1NLkyZPPeM0iNDS00vBQq1atKCgo4ODBgwQGBuLn51exLiwsjJycHMA1bXR4ePgZ99myZcuKr318fCgpKTnH70KIupFbZ4WoBwUFBZVeNnPgwAFCQ0MJCQnh119/rfQ2sxPrwPXOgV9++cXjeYVwlxQLIepBYWEhH374IeXl5Xz11Vf8/PPP9O7dm7CwMLp06cIbb7xBaWkpu3btYuXKlVxyySUAJCUl8a9//Yvc3Fy01uzatYvDhw9b/N0IUZUMQwlRS4899lil5ywuvPDCindCdOrUidzcXCZMmEDLli154IEHKl6Ac++99/LSSy9xxx13EBgYyI033lgxnHXllVdSVlbG7NmzOXz4MFFRUTz44IOe/+aEqIG8z0KIc3Ti1tlZs2ZZHUWIBiPDUEIIIWokxUIIIUSNZBhKCCFEjeTMQgghRI2kWAghhKiRFAshhBA1kmIhhBCiRlIshBBC1Oj/AVMwrgiAUVZmAAAAAElFTkSuQmCC\n",
      "text/plain": [
       "<Figure size 432x288 with 1 Axes>"
      ]
     },
     "metadata": {},
     "output_type": "display_data"
    }
   ],
   "source": [
    "plt.style.use(\"ggplot\")\n",
    "plt.figure()\n",
    "plt.plot(graph[\"loss\"], label=\"train_loss\")\n",
    "plt.plot(graph[\"val_loss\"], label=\"val_loss\")\n",
    "\n",
    "plt.title(\"Training Loss\")\n",
    "plt.xlabel(\"Epoch \")\n",
    "plt.ylabel(\"Loss\")"
   ]
  },
  {
   "cell_type": "code",
   "execution_count": 71,
   "id": "80a69dd9",
   "metadata": {},
   "outputs": [
    {
     "data": {
      "text/html": [
       "<div>\n",
       "<style scoped>\n",
       "    .dataframe tbody tr th:only-of-type {\n",
       "        vertical-align: middle;\n",
       "    }\n",
       "\n",
       "    .dataframe tbody tr th {\n",
       "        vertical-align: top;\n",
       "    }\n",
       "\n",
       "    .dataframe thead th {\n",
       "        text-align: right;\n",
       "    }\n",
       "</style>\n",
       "<table border=\"1\" class=\"dataframe\">\n",
       "  <thead>\n",
       "    <tr style=\"text-align: right;\">\n",
       "      <th></th>\n",
       "      <th>loss</th>\n",
       "      <th>accuracy</th>\n",
       "      <th>val_loss</th>\n",
       "      <th>val_accuracy</th>\n",
       "    </tr>\n",
       "  </thead>\n",
       "  <tbody>\n",
       "    <tr>\n",
       "      <th>0</th>\n",
       "      <td>0.717731</td>\n",
       "      <td>0.707590</td>\n",
       "      <td>0.645088</td>\n",
       "      <td>0.740516</td>\n",
       "    </tr>\n",
       "    <tr>\n",
       "      <th>1</th>\n",
       "      <td>0.532372</td>\n",
       "      <td>0.792884</td>\n",
       "      <td>0.586355</td>\n",
       "      <td>0.775038</td>\n",
       "    </tr>\n",
       "    <tr>\n",
       "      <th>2</th>\n",
       "      <td>0.458388</td>\n",
       "      <td>0.825522</td>\n",
       "      <td>0.580356</td>\n",
       "      <td>0.785281</td>\n",
       "    </tr>\n",
       "    <tr>\n",
       "      <th>3</th>\n",
       "      <td>0.417097</td>\n",
       "      <td>0.841651</td>\n",
       "      <td>0.578684</td>\n",
       "      <td>0.788695</td>\n",
       "    </tr>\n",
       "    <tr>\n",
       "      <th>4</th>\n",
       "      <td>0.385967</td>\n",
       "      <td>0.856831</td>\n",
       "      <td>0.575112</td>\n",
       "      <td>0.781108</td>\n",
       "    </tr>\n",
       "  </tbody>\n",
       "</table>\n",
       "</div>"
      ],
      "text/plain": [
       "       loss  accuracy  val_loss  val_accuracy\n",
       "0  0.717731  0.707590  0.645088      0.740516\n",
       "1  0.532372  0.792884  0.586355      0.775038\n",
       "2  0.458388  0.825522  0.580356      0.785281\n",
       "3  0.417097  0.841651  0.578684      0.788695\n",
       "4  0.385967  0.856831  0.575112      0.781108"
      ]
     },
     "execution_count": 71,
     "metadata": {},
     "output_type": "execute_result"
    }
   ],
   "source": [
    "graph # model with a dropout layer"
   ]
  },
  {
   "cell_type": "code",
   "execution_count": 72,
   "id": "90c97bf2",
   "metadata": {},
   "outputs": [
    {
     "data": {
      "text/html": [
       "<div>\n",
       "<style scoped>\n",
       "    .dataframe tbody tr th:only-of-type {\n",
       "        vertical-align: middle;\n",
       "    }\n",
       "\n",
       "    .dataframe tbody tr th {\n",
       "        vertical-align: top;\n",
       "    }\n",
       "\n",
       "    .dataframe thead th {\n",
       "        text-align: right;\n",
       "    }\n",
       "</style>\n",
       "<table border=\"1\" class=\"dataframe\">\n",
       "  <thead>\n",
       "    <tr style=\"text-align: right;\">\n",
       "      <th></th>\n",
       "      <th>loss</th>\n",
       "      <th>accuracy</th>\n",
       "      <th>val_loss</th>\n",
       "      <th>val_accuracy</th>\n",
       "    </tr>\n",
       "  </thead>\n",
       "  <tbody>\n",
       "    <tr>\n",
       "      <th>0</th>\n",
       "      <td>0.717118</td>\n",
       "      <td>0.705313</td>\n",
       "      <td>0.630183</td>\n",
       "      <td>0.750000</td>\n",
       "    </tr>\n",
       "    <tr>\n",
       "      <th>1</th>\n",
       "      <td>0.538906</td>\n",
       "      <td>0.790702</td>\n",
       "      <td>0.602862</td>\n",
       "      <td>0.757587</td>\n",
       "    </tr>\n",
       "    <tr>\n",
       "      <th>2</th>\n",
       "      <td>0.464253</td>\n",
       "      <td>0.820493</td>\n",
       "      <td>0.651821</td>\n",
       "      <td>0.770486</td>\n",
       "    </tr>\n",
       "    <tr>\n",
       "      <th>3</th>\n",
       "      <td>0.418716</td>\n",
       "      <td>0.840323</td>\n",
       "      <td>0.577631</td>\n",
       "      <td>0.795144</td>\n",
       "    </tr>\n",
       "    <tr>\n",
       "      <th>4</th>\n",
       "      <td>0.384805</td>\n",
       "      <td>0.856262</td>\n",
       "      <td>0.566761</td>\n",
       "      <td>0.783005</td>\n",
       "    </tr>\n",
       "  </tbody>\n",
       "</table>\n",
       "</div>"
      ],
      "text/plain": [
       "       loss  accuracy  val_loss  val_accuracy\n",
       "0  0.717118  0.705313  0.630183      0.750000\n",
       "1  0.538906  0.790702  0.602862      0.757587\n",
       "2  0.464253  0.820493  0.651821      0.770486\n",
       "3  0.418716  0.840323  0.577631      0.795144\n",
       "4  0.384805  0.856262  0.566761      0.783005"
      ]
     },
     "execution_count": 72,
     "metadata": {},
     "output_type": "execute_result"
    }
   ],
   "source": [
    "graph1 # model without dropout layer"
   ]
  },
  {
   "cell_type": "markdown",
   "id": "72660387",
   "metadata": {},
   "source": [
    "## 4.c Conclusion from both the models"
   ]
  },
  {
   "cell_type": "markdown",
   "id": "65cc2646",
   "metadata": {},
   "source": [
    "Here we can see that the value of loss and val_loss is decreased in the model with a dropout layer\n",
    "and the values of accuracy and val_accuracy has increased "
   ]
  },
  {
   "cell_type": "markdown",
   "id": "745a97ab",
   "metadata": {},
   "source": [
    "## 5. Define a function that takes a text as input and outputs its prediction label."
   ]
  },
  {
   "cell_type": "code",
   "execution_count": 92,
   "id": "73fe38c0",
   "metadata": {},
   "outputs": [],
   "source": [
    "def predict_function(text):\n",
    "    tw = tokenizer.texts_to_sequences([text])\n",
    "    tw = pad_sequences(tw,maxlen=200)\n",
    "    prediction = model.predict(tw)\n",
    "    print(\"Predicted label: \", prediction)\n"
   ]
  },
  {
   "cell_type": "code",
   "execution_count": 93,
   "id": "5769b2de",
   "metadata": {},
   "outputs": [
    {
     "name": "stdout",
     "output_type": "stream",
     "text": [
      "Predicted label:  [[0.03252445 0.7831033  0.18437223]]\n",
      "Predicted label:  [[0.680975   0.31476778 0.00425719]]\n"
     ]
    }
   ],
   "source": [
    "test_sentence1 = \"I enjoyed my journey on this flight.\"\n",
    "predict_function(test_sentence1)\n",
    "test_sentence2 = \"This is the worst flight experience of my life!\"\n",
    "predict_function(test_sentence2)"
   ]
  },
  {
   "cell_type": "code",
   "execution_count": null,
   "id": "1c98d60f",
   "metadata": {},
   "outputs": [],
   "source": []
  },
  {
   "cell_type": "code",
   "execution_count": null,
   "id": "0323bcf2",
   "metadata": {},
   "outputs": [],
   "source": []
  },
  {
   "cell_type": "code",
   "execution_count": null,
   "id": "988a12b7",
   "metadata": {},
   "outputs": [],
   "source": []
  },
  {
   "cell_type": "code",
   "execution_count": null,
   "id": "d12ed3c1",
   "metadata": {},
   "outputs": [],
   "source": []
  },
  {
   "cell_type": "code",
   "execution_count": null,
   "id": "f07db5c6",
   "metadata": {},
   "outputs": [],
   "source": []
  },
  {
   "cell_type": "code",
   "execution_count": null,
   "id": "6794e071",
   "metadata": {},
   "outputs": [],
   "source": []
  },
  {
   "cell_type": "code",
   "execution_count": null,
   "id": "7c98b322",
   "metadata": {},
   "outputs": [],
   "source": []
  },
  {
   "cell_type": "code",
   "execution_count": null,
   "id": "5c6ce13e",
   "metadata": {},
   "outputs": [],
   "source": []
  },
  {
   "cell_type": "code",
   "execution_count": null,
   "id": "d90f2360",
   "metadata": {},
   "outputs": [],
   "source": []
  },
  {
   "cell_type": "code",
   "execution_count": null,
   "id": "2574267b",
   "metadata": {},
   "outputs": [],
   "source": []
  },
  {
   "cell_type": "code",
   "execution_count": null,
   "id": "655c4ead",
   "metadata": {},
   "outputs": [],
   "source": []
  },
  {
   "cell_type": "code",
   "execution_count": null,
   "id": "2bf2d835",
   "metadata": {},
   "outputs": [],
   "source": []
  },
  {
   "cell_type": "code",
   "execution_count": null,
   "id": "5ed98672",
   "metadata": {},
   "outputs": [],
   "source": []
  }
 ],
 "metadata": {
  "kernelspec": {
   "display_name": "Python 3 (ipykernel)",
   "language": "python",
   "name": "python3"
  },
  "language_info": {
   "codemirror_mode": {
    "name": "ipython",
    "version": 3
   },
   "file_extension": ".py",
   "mimetype": "text/x-python",
   "name": "python",
   "nbconvert_exporter": "python",
   "pygments_lexer": "ipython3",
   "version": "3.11.3"
  }
 },
 "nbformat": 4,
 "nbformat